{
 "cells": [
  {
   "cell_type": "markdown",
   "metadata": {
    "pycharm": {
     "name": "#%% md\n"
    },
    "tags": []
   },
   "source": [
    "# <center> BSE Workshop Activity </center>\n",
    "<center> Theodoros Constantinides (tc17231@bristol.ac.uk) </center>"
   ]
  },
  {
   "cell_type": "markdown",
   "metadata": {
    "tags": []
   },
   "source": [
    "# Market Configurations "
   ]
  },
  {
   "cell_type": "markdown",
   "metadata": {},
   "source": [
    "In this worksheet, we will explore how BSE works and perform some experiments. Download BSE.py from GitHub here: https://github.com/davecliff/BristolStockExchange. \n",
    "\n",
    "You must **place the file BSE.py in the same folder as this Jupyter Notebook**, so that you can import functions from the BSE code.\n",
    "\n",
    "For further information on how to use BSE, see the __[BSE wiki](https://github.com/davecliff/BristolStockExchange/wiki)__. \n",
    "\n",
    "BSE is simulation of a limit order book (LOB) exchange. There are a number of trading algorithms already built in and it provides a wide range of customizations to suit a large variety of experiments.\n",
    "\n",
    "Unfortunately, looking at BSE for the first time can be somewhat daunting. In this worksheet, we hope to give you a primer and allow you to start working with BSE. \n",
    "\n",
    "The general idea of BSE, is that you set a number of parameters (e.g. supply and demand curves, order schedules, seller and buyer specifications) that describe the experiment you want to conduct and then allow BSE to simulate a number of market sessions that follow those parameters. BSE then produces a number of files with the results which you can then analyse. "
   ]
  },
  {
   "cell_type": "markdown",
   "metadata": {},
   "source": [
    "# Getting started: helper functions for plotting demand, supply and trades"
   ]
  },
  {
   "cell_type": "markdown",
   "metadata": {},
   "source": [
    "To help you work with BSE, let's first create some new helper functions for plotting what is happening \"under the hood\". The following code is new and does not appear in BSE.py.\n",
    "\n",
    "At this point in time, you do not need to understand the code below. First we import some libraries for plotting, we import code from BSE.py, and then we define some methods for plotting demand and supply, and trades. \n",
    "\n",
    "Run the code below so that these functions are available to you later. Then move on to the next section. \n",
    "\n",
    "**Note: if BSE.py is not in the current folder the following code will throw a ModuleNotFoundError: No module named 'BSE'**"
   ]
  },
  {
   "cell_type": "code",
   "execution_count": 4,
   "metadata": {},
   "outputs": [],
   "source": [
    "# Initial Setup: \n",
    "# Import all the libraries we need\n",
    "\n",
    "import matplotlib.pyplot as plt\n",
    "import numpy as np\n",
    "import csv\n",
    "import math\n",
    "import random\n",
    "\n",
    "from BSE import market_session\n",
    "\n",
    "# The next are helper functions that you will use later, if they don't make \n",
    "# much sense now, don't worry too much about it they will become clearer later:\n",
    "\n",
    "# Use this to plot trades of a single experiment\n",
    "def plot_trades(trial_id):\n",
    "    prices_fname = trial_id + '_transactions.csv'\n",
    "    x = np.empty(0)\n",
    "    y = np.empty(0)\n",
    "    with open(prices_fname, newline='') as csvfile:\n",
    "        reader = csv.reader(csvfile)\n",
    "        for row in reader:\n",
    "            time = float(row[1])\n",
    "            price = float(row[2])\n",
    "            x = np.append(x,time)\n",
    "            y = np.append(y,price)\n",
    "\n",
    "    plt.plot(x, y, 'x', color='black') \n",
    "    \n",
    "# Use this to run an experiment n times and plot all trades\n",
    "def n_runs_plot(n, trial_id, start_time, end_time, traders_spec, order_sched):\n",
    "    x = np.empty(0)\n",
    "    y = np.empty(0)\n",
    "\n",
    "    for i in range(n):\n",
    "        trialId = trial_id + '_' + str(i)\n",
    "        tdump = open(trialId + '_avg_balance.csv','w')\n",
    "\n",
    "        market_session(trialId, start_time, end_time, traders_spec, order_sched, tdump, True, False)\n",
    "        \n",
    "        tdump.close()\n",
    "\n",
    "        with open(trialId + '_transactions.csv', newline='') as csvfile:\n",
    "            reader = csv.reader(csvfile)\n",
    "            for row in reader:\n",
    "                time = float(row[1])\n",
    "                price = float(row[2])\n",
    "                x = np.append(x,time)\n",
    "                y = np.append(y,price)\n",
    "\n",
    "    plt.plot(x, y, 'x', color='black');\n",
    "\n",
    "# !!! Don't use on it's own   \n",
    "def getorderprice(i, sched, n, mode):\n",
    "    pmin = min(sched[0][0], sched[0][1])\n",
    "    pmax = max(sched[0][0], sched[0][1])\n",
    "    prange = pmax - pmin\n",
    "    stepsize = prange / (n - 1)\n",
    "    halfstep = round(stepsize / 2.0)\n",
    "\n",
    "    if mode == 'fixed':\n",
    "        orderprice = pmin + int(i * stepsize)\n",
    "    elif mode == 'jittered':\n",
    "        orderprice = pmin + int(i * stepsize) + random.randint(-halfstep, halfstep)\n",
    "    elif mode == 'random':\n",
    "        if len(sched) > 1:\n",
    "            # more than one schedule: choose one equiprobably\n",
    "            s = random.randint(0, len(sched) - 1)\n",
    "            pmin = min(sched[s][0], sched[s][1])\n",
    "            pmax = max(sched[s][0], sched[s][1])\n",
    "        orderprice = random.randint(pmin, pmax)\n",
    "    return orderprice    \n",
    "\n",
    "# !!! Don't use on it's own\n",
    "def make_supply_demand_plot(bids, asks):\n",
    "    # total volume up to current order\n",
    "    volS = 0\n",
    "    volB = 0\n",
    "\n",
    "    fig, ax = plt.subplots()\n",
    "    plt.ylabel('Price')\n",
    "    plt.xlabel('Quantity')\n",
    "    \n",
    "    pr = 0\n",
    "    for b in bids:\n",
    "        if pr != 0:\n",
    "            # vertical line\n",
    "            ax.plot([volB,volB], [pr,b], 'r-')\n",
    "        # horizontal lines\n",
    "        line, = ax.plot([volB,volB+1], [b,b], 'r-')\n",
    "        volB += 1\n",
    "        pr = b\n",
    "    if bids:\n",
    "        line.set_label('Demand')\n",
    "        \n",
    "    pr = 0\n",
    "    for s in asks:\n",
    "        if pr != 0:\n",
    "            # vertical line\n",
    "            ax.plot([volS,volS], [pr,s], 'b-')\n",
    "        # horizontal lines\n",
    "        line, = ax.plot([volS,volS+1], [s,s], 'b-')\n",
    "        volS += 1\n",
    "        pr = s\n",
    "    if asks:\n",
    "        line.set_label('Supply')\n",
    "        \n",
    "    if bids or asks:\n",
    "        plt.legend()\n",
    "    plt.show()\n",
    "\n",
    "# Use this to plot supply and demand curves from supply and demand ranges and stepmode\n",
    "def sup_dem(seller_num, sup_ranges, buyer_num, dem_ranges, stepmode):\n",
    "    asks = []\n",
    "    for s in range(seller_num):\n",
    "        asks.append(getorderprice(s, sup_ranges, seller_num, stepmode))\n",
    "    asks.sort()\n",
    "    bids = []\n",
    "    for b in range(buyer_num):\n",
    "        bids.append(getorderprice(b, dem_ranges, buyer_num, stepmode))\n",
    "    bids.sort()\n",
    "    bids.reverse()\n",
    "    \n",
    "    make_supply_demand_plot(bids, asks) \n",
    "\n",
    "# plot sorted trades, useful is some situations - won't be used in this worksheet\n",
    "def in_order_plot(trial_id):\n",
    "    prices_fname = trial_id + '_transactions.csv'\n",
    "    y = np.empty(0)\n",
    "    with open(prices_fname, newline='') as csvfile:\n",
    "        reader = csv.reader(csvfile)\n",
    "        for row in reader:\n",
    "            price = float(row[2])\n",
    "            y = np.append(y,price)\n",
    "    y = np.sort(y)\n",
    "    x = list(range(len(y)))\n",
    "\n",
    "    plt.plot(x, y, 'x', color='black')   "
   ]
  },
  {
   "cell_type": "markdown",
   "metadata": {
    "tags": []
   },
   "source": [
    "## Static Markets"
   ]
  },
  {
   "cell_type": "markdown",
   "metadata": {},
   "source": [
    "In this section, we will see how static markets work in BSE. Static markets are markets where the supply and demand curves remain constant throughout the experiment."
   ]
  },
  {
   "cell_type": "markdown",
   "metadata": {
    "tags": []
   },
   "source": [
    "### Trader specification "
   ]
  },
  {
   "cell_type": "markdown",
   "metadata": {},
   "source": [
    "BSE allows us to populate the market with as many buyers or sellers as we want. In order to do this, we have to specify the buyer, seller and trader specifications.\n",
    "\n",
    "Buyer and seller specifications, are **lists of tuples**. Each tuple specifies a trader type and the number of traders of that type that should be present in the market. This is defined as **(trader_type, trader_number)** where trader_type is a string that represents a type of trader (currently in BSE 7 trader types are defined, namely \"ZIP\", \"ZIC\", \"SHVR\", \"GVWY\", \"SNPR\", \"PRZI\" and \"PRSH\" but more can be easily added) and trader_number is an integer that defines how many traders of that type should exist. Appending multiple tuples in one of the lists will populate the market with all the trader types specified in each tuple.\n",
    "\n",
    "The trader specification on the other hand is a **dictionary**. Dictionaries contain key-value pairs. The trader specification dictionary contains 2 pairs, one with **key \"sellers\"** and another with **key \"buyers\"**. These keys should match with the buyer and seller specifications we want for our experiment.\n",
    "\n",
    "See __[BSE wiki](https://github.com/davecliff/BristolStockExchange/wiki/5.-Comparing-different-robot-traders)__  for help.\n",
    "\n",
    "Let's now define a market that contains an equal amount of buyers and sellers (10 on each side) all being of type ZIC. "
   ]
  },
  {
   "cell_type": "code",
   "execution_count": 15,
   "metadata": {},
   "outputs": [],
   "source": [
    "sellers_spec = [('ZIP',10)]\n",
    "buyers_spec = [('ZIP',10)]\n",
    "traders_spec = {'sellers':sellers_spec, 'buyers':buyers_spec}"
   ]
  },
  {
   "cell_type": "markdown",
   "metadata": {},
   "source": [
    "How would you change the above code to have the same market but with half of the sellers and buyers being of type ZIC and the other half of type ZIP:"
   ]
  },
  {
   "cell_type": "code",
   "execution_count": null,
   "metadata": {},
   "outputs": [],
   "source": [
    "sellers_spec = \n",
    "buyers_spec = \n",
    "traders_spec ="
   ]
  },
  {
   "cell_type": "markdown",
   "metadata": {
    "tags": []
   },
   "source": [
    "### Supply and Demand Curves"
   ]
  },
  {
   "cell_type": "markdown",
   "metadata": {},
   "source": [
    "Here we will see how to set the supply and demand curves that provide orders to out traders. First we will create a market with symmetric supply and demand curves with minimum price of 50 and maximum price of 150. The step-size will be fixed."
   ]
  },
  {
   "cell_type": "markdown",
   "metadata": {
    "tags": []
   },
   "source": [
    "#### Supply and Demand Ranges "
   ]
  },
  {
   "cell_type": "markdown",
   "metadata": {},
   "source": [
    "To do this, we need to set the **supply and demand ranges**. These ranges in BSE are represented as **tuples**. There are a few options (we will look more into this later on), but the simplest one is to have a fixed range. To do this we need to provide a tuple that contains just two number the minimum and the maximum allowed prices, **(min, max)**. \n",
    "\n",
    "See __[BSE wiki](https://github.com/davecliff/BristolStockExchange/wiki/4.-Altering-the-market-supply-and-demand)__  for help.\n",
    "\n",
    "Set the ranges for supply and demand for the experiment we defined earlier:"
   ]
  },
  {
   "cell_type": "code",
   "execution_count": 14,
   "metadata": {},
   "outputs": [],
   "source": [
    "sup_range = (100, 200)\n",
    "dem_range = (100, 200)"
   ]
  },
  {
   "cell_type": "markdown",
   "metadata": {
    "tags": []
   },
   "source": [
    "#### Supply and Demand Schedules "
   ]
  },
  {
   "cell_type": "markdown",
   "metadata": {},
   "source": [
    "Now that we have our ranges, we can set the **supply and demand schedules**. Supply and demand schedules in BSE are represented as **lists of dictionaries**. Initially, we will only focus on the case where we have just 1 dictionary in each list but later on we will see what happens if we add more. \n",
    "\n",
    "A dictionary for a supply or a demand schedule should contain 4 keys, namely **\"from\", \"to\", \"ranges\"** and **\"stepmode\"**. \n",
    "- Starting with \"ranges\", this is a **list of ranges (tuples)** like the ones we just created. For now we will only look at the case where there is a single range in the list and later we will see more advanced configuration options where we supply multiple of these. \n",
    "- \"from\" and \"end\" are numbers representing seconds. \"from\" is the time to start using this schedule and should be set to 0 for now. Similarly \"to\" is the time to stop using this schedule and should be initially set to the maximum time that our simulation will take (in this case let's set it to 10 minutes). \n",
    "- The last thing we need to define, is the \"stepmode\" which is represented as a string. This tells BSE how to space out the orders it will give to traders. There are 3 stepmodes build into BSE, namely **\"fixed\", \"jittered\"** and **\"random\"**: \n",
    "    - Fixed gives orders that are spaced equally, producing supply or demand curves that have steps of fixed size, i.e. there is a constant difference between successive prices - note that the actual step-size is determined by the number of buyers for demand and sellers for supply; \n",
    "    - Jittered starts with a fixed stepmode but then randomly adjusts each order allowing each to deviate by at most half a step upwards or downwards simulating random noise;\n",
    "    - Random just assigns each trader an order which is set at random within the specified range\n",
    "\n",
    "For our market simulation, let's use a fixed stepmode since we want a fixed step-size. Define the supply and demand schedules:"
   ]
  },
  {
   "cell_type": "code",
   "execution_count": 13,
   "metadata": {},
   "outputs": [],
   "source": [
    "start_time = 0\n",
    "end_time = 180\n",
    "supply_schedule = [{'from': start_time, 'to': end_time, 'ranges': [sup_range], 'stepmode': 'fixed'}\n",
    "                       ]\n",
    "demand_schedule = [{'from': start_time, 'to': end_time, 'ranges': [dem_range], 'stepmode': 'fixed'}\n",
    "                       ]"
   ]
  },
  {
   "cell_type": "markdown",
   "metadata": {},
   "source": [
    "You can use the provided \"sup_dem\" function that we defined earlier (at the top of this worksheet) to print the supply and demand curves of experiments.\n",
    "\n",
    "Run the code below:"
   ]
  },
  {
   "cell_type": "code",
   "execution_count": 16,
   "metadata": {},
   "outputs": [
    {
     "output_type": "display_data",
     "data": {
      "text/plain": "<Figure size 432x288 with 1 Axes>",
      "image/svg+xml": "<?xml version=\"1.0\" encoding=\"utf-8\" standalone=\"no\"?>\r\n<!DOCTYPE svg PUBLIC \"-//W3C//DTD SVG 1.1//EN\"\r\n  \"http://www.w3.org/Graphics/SVG/1.1/DTD/svg11.dtd\">\r\n<!-- Created with matplotlib (https://matplotlib.org/) -->\r\n<svg height=\"262.19625pt\" version=\"1.1\" viewBox=\"0 0 388.965625 262.19625\" width=\"388.965625pt\" xmlns=\"http://www.w3.org/2000/svg\" xmlns:xlink=\"http://www.w3.org/1999/xlink\">\r\n <defs>\r\n  <style type=\"text/css\">\r\n*{stroke-linecap:butt;stroke-linejoin:round;}\r\n  </style>\r\n </defs>\r\n <g id=\"figure_1\">\r\n  <g id=\"patch_1\">\r\n   <path d=\"M -0 262.19625 \r\nL 388.965625 262.19625 \r\nL 388.965625 0 \r\nL -0 0 \r\nz\r\n\" style=\"fill:none;\"/>\r\n  </g>\r\n  <g id=\"axes_1\">\r\n   <g id=\"patch_2\">\r\n    <path d=\"M 46.965625 224.64 \r\nL 381.765625 224.64 \r\nL 381.765625 7.2 \r\nL 46.965625 7.2 \r\nz\r\n\" style=\"fill:#ffffff;\"/>\r\n   </g>\r\n   <g id=\"matplotlib.axis_1\">\r\n    <g id=\"xtick_1\">\r\n     <g id=\"line2d_1\">\r\n      <defs>\r\n       <path d=\"M 0 0 \r\nL 0 3.5 \r\n\" id=\"maafed8cd87\" style=\"stroke:#000000;stroke-width:0.8;\"/>\r\n      </defs>\r\n      <g>\r\n       <use style=\"stroke:#000000;stroke-width:0.8;\" x=\"62.183807\" xlink:href=\"#maafed8cd87\" y=\"224.64\"/>\r\n      </g>\r\n     </g>\r\n     <g id=\"text_1\">\r\n      <!-- 0 -->\r\n      <defs>\r\n       <path d=\"M 31.78125 66.40625 \r\nQ 24.171875 66.40625 20.328125 58.90625 \r\nQ 16.5 51.421875 16.5 36.375 \r\nQ 16.5 21.390625 20.328125 13.890625 \r\nQ 24.171875 6.390625 31.78125 6.390625 \r\nQ 39.453125 6.390625 43.28125 13.890625 \r\nQ 47.125 21.390625 47.125 36.375 \r\nQ 47.125 51.421875 43.28125 58.90625 \r\nQ 39.453125 66.40625 31.78125 66.40625 \r\nz\r\nM 31.78125 74.21875 \r\nQ 44.046875 74.21875 50.515625 64.515625 \r\nQ 56.984375 54.828125 56.984375 36.375 \r\nQ 56.984375 17.96875 50.515625 8.265625 \r\nQ 44.046875 -1.421875 31.78125 -1.421875 \r\nQ 19.53125 -1.421875 13.0625 8.265625 \r\nQ 6.59375 17.96875 6.59375 36.375 \r\nQ 6.59375 54.828125 13.0625 64.515625 \r\nQ 19.53125 74.21875 31.78125 74.21875 \r\nz\r\n\" id=\"DejaVuSans-48\"/>\r\n      </defs>\r\n      <g transform=\"translate(59.002557 239.238437)scale(0.1 -0.1)\">\r\n       <use xlink:href=\"#DejaVuSans-48\"/>\r\n      </g>\r\n     </g>\r\n    </g>\r\n    <g id=\"xtick_2\">\r\n     <g id=\"line2d_2\">\r\n      <g>\r\n       <use style=\"stroke:#000000;stroke-width:0.8;\" x=\"123.056534\" xlink:href=\"#maafed8cd87\" y=\"224.64\"/>\r\n      </g>\r\n     </g>\r\n     <g id=\"text_2\">\r\n      <!-- 2 -->\r\n      <defs>\r\n       <path d=\"M 19.1875 8.296875 \r\nL 53.609375 8.296875 \r\nL 53.609375 0 \r\nL 7.328125 0 \r\nL 7.328125 8.296875 \r\nQ 12.9375 14.109375 22.625 23.890625 \r\nQ 32.328125 33.6875 34.8125 36.53125 \r\nQ 39.546875 41.84375 41.421875 45.53125 \r\nQ 43.3125 49.21875 43.3125 52.78125 \r\nQ 43.3125 58.59375 39.234375 62.25 \r\nQ 35.15625 65.921875 28.609375 65.921875 \r\nQ 23.96875 65.921875 18.8125 64.3125 \r\nQ 13.671875 62.703125 7.8125 59.421875 \r\nL 7.8125 69.390625 \r\nQ 13.765625 71.78125 18.9375 73 \r\nQ 24.125 74.21875 28.421875 74.21875 \r\nQ 39.75 74.21875 46.484375 68.546875 \r\nQ 53.21875 62.890625 53.21875 53.421875 \r\nQ 53.21875 48.921875 51.53125 44.890625 \r\nQ 49.859375 40.875 45.40625 35.40625 \r\nQ 44.1875 33.984375 37.640625 27.21875 \r\nQ 31.109375 20.453125 19.1875 8.296875 \r\nz\r\n\" id=\"DejaVuSans-50\"/>\r\n      </defs>\r\n      <g transform=\"translate(119.875284 239.238437)scale(0.1 -0.1)\">\r\n       <use xlink:href=\"#DejaVuSans-50\"/>\r\n      </g>\r\n     </g>\r\n    </g>\r\n    <g id=\"xtick_3\">\r\n     <g id=\"line2d_3\">\r\n      <g>\r\n       <use style=\"stroke:#000000;stroke-width:0.8;\" x=\"183.929261\" xlink:href=\"#maafed8cd87\" y=\"224.64\"/>\r\n      </g>\r\n     </g>\r\n     <g id=\"text_3\">\r\n      <!-- 4 -->\r\n      <defs>\r\n       <path d=\"M 37.796875 64.3125 \r\nL 12.890625 25.390625 \r\nL 37.796875 25.390625 \r\nz\r\nM 35.203125 72.90625 \r\nL 47.609375 72.90625 \r\nL 47.609375 25.390625 \r\nL 58.015625 25.390625 \r\nL 58.015625 17.1875 \r\nL 47.609375 17.1875 \r\nL 47.609375 0 \r\nL 37.796875 0 \r\nL 37.796875 17.1875 \r\nL 4.890625 17.1875 \r\nL 4.890625 26.703125 \r\nz\r\n\" id=\"DejaVuSans-52\"/>\r\n      </defs>\r\n      <g transform=\"translate(180.748011 239.238437)scale(0.1 -0.1)\">\r\n       <use xlink:href=\"#DejaVuSans-52\"/>\r\n      </g>\r\n     </g>\r\n    </g>\r\n    <g id=\"xtick_4\">\r\n     <g id=\"line2d_4\">\r\n      <g>\r\n       <use style=\"stroke:#000000;stroke-width:0.8;\" x=\"244.801989\" xlink:href=\"#maafed8cd87\" y=\"224.64\"/>\r\n      </g>\r\n     </g>\r\n     <g id=\"text_4\">\r\n      <!-- 6 -->\r\n      <defs>\r\n       <path d=\"M 33.015625 40.375 \r\nQ 26.375 40.375 22.484375 35.828125 \r\nQ 18.609375 31.296875 18.609375 23.390625 \r\nQ 18.609375 15.53125 22.484375 10.953125 \r\nQ 26.375 6.390625 33.015625 6.390625 \r\nQ 39.65625 6.390625 43.53125 10.953125 \r\nQ 47.40625 15.53125 47.40625 23.390625 \r\nQ 47.40625 31.296875 43.53125 35.828125 \r\nQ 39.65625 40.375 33.015625 40.375 \r\nz\r\nM 52.59375 71.296875 \r\nL 52.59375 62.3125 \r\nQ 48.875 64.0625 45.09375 64.984375 \r\nQ 41.3125 65.921875 37.59375 65.921875 \r\nQ 27.828125 65.921875 22.671875 59.328125 \r\nQ 17.53125 52.734375 16.796875 39.40625 \r\nQ 19.671875 43.65625 24.015625 45.921875 \r\nQ 28.375 48.1875 33.59375 48.1875 \r\nQ 44.578125 48.1875 50.953125 41.515625 \r\nQ 57.328125 34.859375 57.328125 23.390625 \r\nQ 57.328125 12.15625 50.6875 5.359375 \r\nQ 44.046875 -1.421875 33.015625 -1.421875 \r\nQ 20.359375 -1.421875 13.671875 8.265625 \r\nQ 6.984375 17.96875 6.984375 36.375 \r\nQ 6.984375 53.65625 15.1875 63.9375 \r\nQ 23.390625 74.21875 37.203125 74.21875 \r\nQ 40.921875 74.21875 44.703125 73.484375 \r\nQ 48.484375 72.75 52.59375 71.296875 \r\nz\r\n\" id=\"DejaVuSans-54\"/>\r\n      </defs>\r\n      <g transform=\"translate(241.620739 239.238437)scale(0.1 -0.1)\">\r\n       <use xlink:href=\"#DejaVuSans-54\"/>\r\n      </g>\r\n     </g>\r\n    </g>\r\n    <g id=\"xtick_5\">\r\n     <g id=\"line2d_5\">\r\n      <g>\r\n       <use style=\"stroke:#000000;stroke-width:0.8;\" x=\"305.674716\" xlink:href=\"#maafed8cd87\" y=\"224.64\"/>\r\n      </g>\r\n     </g>\r\n     <g id=\"text_5\">\r\n      <!-- 8 -->\r\n      <defs>\r\n       <path d=\"M 31.78125 34.625 \r\nQ 24.75 34.625 20.71875 30.859375 \r\nQ 16.703125 27.09375 16.703125 20.515625 \r\nQ 16.703125 13.921875 20.71875 10.15625 \r\nQ 24.75 6.390625 31.78125 6.390625 \r\nQ 38.8125 6.390625 42.859375 10.171875 \r\nQ 46.921875 13.96875 46.921875 20.515625 \r\nQ 46.921875 27.09375 42.890625 30.859375 \r\nQ 38.875 34.625 31.78125 34.625 \r\nz\r\nM 21.921875 38.8125 \r\nQ 15.578125 40.375 12.03125 44.71875 \r\nQ 8.5 49.078125 8.5 55.328125 \r\nQ 8.5 64.0625 14.71875 69.140625 \r\nQ 20.953125 74.21875 31.78125 74.21875 \r\nQ 42.671875 74.21875 48.875 69.140625 \r\nQ 55.078125 64.0625 55.078125 55.328125 \r\nQ 55.078125 49.078125 51.53125 44.71875 \r\nQ 48 40.375 41.703125 38.8125 \r\nQ 48.828125 37.15625 52.796875 32.3125 \r\nQ 56.78125 27.484375 56.78125 20.515625 \r\nQ 56.78125 9.90625 50.3125 4.234375 \r\nQ 43.84375 -1.421875 31.78125 -1.421875 \r\nQ 19.734375 -1.421875 13.25 4.234375 \r\nQ 6.78125 9.90625 6.78125 20.515625 \r\nQ 6.78125 27.484375 10.78125 32.3125 \r\nQ 14.796875 37.15625 21.921875 38.8125 \r\nz\r\nM 18.3125 54.390625 \r\nQ 18.3125 48.734375 21.84375 45.5625 \r\nQ 25.390625 42.390625 31.78125 42.390625 \r\nQ 38.140625 42.390625 41.71875 45.5625 \r\nQ 45.3125 48.734375 45.3125 54.390625 \r\nQ 45.3125 60.0625 41.71875 63.234375 \r\nQ 38.140625 66.40625 31.78125 66.40625 \r\nQ 25.390625 66.40625 21.84375 63.234375 \r\nQ 18.3125 60.0625 18.3125 54.390625 \r\nz\r\n\" id=\"DejaVuSans-56\"/>\r\n      </defs>\r\n      <g transform=\"translate(302.493466 239.238437)scale(0.1 -0.1)\">\r\n       <use xlink:href=\"#DejaVuSans-56\"/>\r\n      </g>\r\n     </g>\r\n    </g>\r\n    <g id=\"xtick_6\">\r\n     <g id=\"line2d_6\">\r\n      <g>\r\n       <use style=\"stroke:#000000;stroke-width:0.8;\" x=\"366.547443\" xlink:href=\"#maafed8cd87\" y=\"224.64\"/>\r\n      </g>\r\n     </g>\r\n     <g id=\"text_6\">\r\n      <!-- 10 -->\r\n      <defs>\r\n       <path d=\"M 12.40625 8.296875 \r\nL 28.515625 8.296875 \r\nL 28.515625 63.921875 \r\nL 10.984375 60.40625 \r\nL 10.984375 69.390625 \r\nL 28.421875 72.90625 \r\nL 38.28125 72.90625 \r\nL 38.28125 8.296875 \r\nL 54.390625 8.296875 \r\nL 54.390625 0 \r\nL 12.40625 0 \r\nz\r\n\" id=\"DejaVuSans-49\"/>\r\n      </defs>\r\n      <g transform=\"translate(360.184943 239.238437)scale(0.1 -0.1)\">\r\n       <use xlink:href=\"#DejaVuSans-49\"/>\r\n       <use x=\"63.623047\" xlink:href=\"#DejaVuSans-48\"/>\r\n      </g>\r\n     </g>\r\n    </g>\r\n    <g id=\"text_7\">\r\n     <!-- Quantity -->\r\n     <defs>\r\n      <path d=\"M 39.40625 66.21875 \r\nQ 28.65625 66.21875 22.328125 58.203125 \r\nQ 16.015625 50.203125 16.015625 36.375 \r\nQ 16.015625 22.609375 22.328125 14.59375 \r\nQ 28.65625 6.59375 39.40625 6.59375 \r\nQ 50.140625 6.59375 56.421875 14.59375 \r\nQ 62.703125 22.609375 62.703125 36.375 \r\nQ 62.703125 50.203125 56.421875 58.203125 \r\nQ 50.140625 66.21875 39.40625 66.21875 \r\nz\r\nM 53.21875 1.3125 \r\nL 66.21875 -12.890625 \r\nL 54.296875 -12.890625 \r\nL 43.5 -1.21875 \r\nQ 41.890625 -1.3125 41.03125 -1.359375 \r\nQ 40.1875 -1.421875 39.40625 -1.421875 \r\nQ 24.03125 -1.421875 14.8125 8.859375 \r\nQ 5.609375 19.140625 5.609375 36.375 \r\nQ 5.609375 53.65625 14.8125 63.9375 \r\nQ 24.03125 74.21875 39.40625 74.21875 \r\nQ 54.734375 74.21875 63.90625 63.9375 \r\nQ 73.09375 53.65625 73.09375 36.375 \r\nQ 73.09375 23.6875 67.984375 14.640625 \r\nQ 62.890625 5.609375 53.21875 1.3125 \r\nz\r\n\" id=\"DejaVuSans-81\"/>\r\n      <path d=\"M 8.5 21.578125 \r\nL 8.5 54.6875 \r\nL 17.484375 54.6875 \r\nL 17.484375 21.921875 \r\nQ 17.484375 14.15625 20.5 10.265625 \r\nQ 23.53125 6.390625 29.59375 6.390625 \r\nQ 36.859375 6.390625 41.078125 11.03125 \r\nQ 45.3125 15.671875 45.3125 23.6875 \r\nL 45.3125 54.6875 \r\nL 54.296875 54.6875 \r\nL 54.296875 0 \r\nL 45.3125 0 \r\nL 45.3125 8.40625 \r\nQ 42.046875 3.421875 37.71875 1 \r\nQ 33.40625 -1.421875 27.6875 -1.421875 \r\nQ 18.265625 -1.421875 13.375 4.4375 \r\nQ 8.5 10.296875 8.5 21.578125 \r\nz\r\nM 31.109375 56 \r\nz\r\n\" id=\"DejaVuSans-117\"/>\r\n      <path d=\"M 34.28125 27.484375 \r\nQ 23.390625 27.484375 19.1875 25 \r\nQ 14.984375 22.515625 14.984375 16.5 \r\nQ 14.984375 11.71875 18.140625 8.90625 \r\nQ 21.296875 6.109375 26.703125 6.109375 \r\nQ 34.1875 6.109375 38.703125 11.40625 \r\nQ 43.21875 16.703125 43.21875 25.484375 \r\nL 43.21875 27.484375 \r\nz\r\nM 52.203125 31.203125 \r\nL 52.203125 0 \r\nL 43.21875 0 \r\nL 43.21875 8.296875 \r\nQ 40.140625 3.328125 35.546875 0.953125 \r\nQ 30.953125 -1.421875 24.3125 -1.421875 \r\nQ 15.921875 -1.421875 10.953125 3.296875 \r\nQ 6 8.015625 6 15.921875 \r\nQ 6 25.140625 12.171875 29.828125 \r\nQ 18.359375 34.515625 30.609375 34.515625 \r\nL 43.21875 34.515625 \r\nL 43.21875 35.40625 \r\nQ 43.21875 41.609375 39.140625 45 \r\nQ 35.0625 48.390625 27.6875 48.390625 \r\nQ 23 48.390625 18.546875 47.265625 \r\nQ 14.109375 46.140625 10.015625 43.890625 \r\nL 10.015625 52.203125 \r\nQ 14.9375 54.109375 19.578125 55.046875 \r\nQ 24.21875 56 28.609375 56 \r\nQ 40.484375 56 46.34375 49.84375 \r\nQ 52.203125 43.703125 52.203125 31.203125 \r\nz\r\n\" id=\"DejaVuSans-97\"/>\r\n      <path d=\"M 54.890625 33.015625 \r\nL 54.890625 0 \r\nL 45.90625 0 \r\nL 45.90625 32.71875 \r\nQ 45.90625 40.484375 42.875 44.328125 \r\nQ 39.84375 48.1875 33.796875 48.1875 \r\nQ 26.515625 48.1875 22.3125 43.546875 \r\nQ 18.109375 38.921875 18.109375 30.90625 \r\nL 18.109375 0 \r\nL 9.078125 0 \r\nL 9.078125 54.6875 \r\nL 18.109375 54.6875 \r\nL 18.109375 46.1875 \r\nQ 21.34375 51.125 25.703125 53.5625 \r\nQ 30.078125 56 35.796875 56 \r\nQ 45.21875 56 50.046875 50.171875 \r\nQ 54.890625 44.34375 54.890625 33.015625 \r\nz\r\n\" id=\"DejaVuSans-110\"/>\r\n      <path d=\"M 18.3125 70.21875 \r\nL 18.3125 54.6875 \r\nL 36.8125 54.6875 \r\nL 36.8125 47.703125 \r\nL 18.3125 47.703125 \r\nL 18.3125 18.015625 \r\nQ 18.3125 11.328125 20.140625 9.421875 \r\nQ 21.96875 7.515625 27.59375 7.515625 \r\nL 36.8125 7.515625 \r\nL 36.8125 0 \r\nL 27.59375 0 \r\nQ 17.1875 0 13.234375 3.875 \r\nQ 9.28125 7.765625 9.28125 18.015625 \r\nL 9.28125 47.703125 \r\nL 2.6875 47.703125 \r\nL 2.6875 54.6875 \r\nL 9.28125 54.6875 \r\nL 9.28125 70.21875 \r\nz\r\n\" id=\"DejaVuSans-116\"/>\r\n      <path d=\"M 9.421875 54.6875 \r\nL 18.40625 54.6875 \r\nL 18.40625 0 \r\nL 9.421875 0 \r\nz\r\nM 9.421875 75.984375 \r\nL 18.40625 75.984375 \r\nL 18.40625 64.59375 \r\nL 9.421875 64.59375 \r\nz\r\n\" id=\"DejaVuSans-105\"/>\r\n      <path d=\"M 32.171875 -5.078125 \r\nQ 28.375 -14.84375 24.75 -17.8125 \r\nQ 21.140625 -20.796875 15.09375 -20.796875 \r\nL 7.90625 -20.796875 \r\nL 7.90625 -13.28125 \r\nL 13.1875 -13.28125 \r\nQ 16.890625 -13.28125 18.9375 -11.515625 \r\nQ 21 -9.765625 23.484375 -3.21875 \r\nL 25.09375 0.875 \r\nL 2.984375 54.6875 \r\nL 12.5 54.6875 \r\nL 29.59375 11.921875 \r\nL 46.6875 54.6875 \r\nL 56.203125 54.6875 \r\nz\r\n\" id=\"DejaVuSans-121\"/>\r\n     </defs>\r\n     <g transform=\"translate(192.759375 252.916562)scale(0.1 -0.1)\">\r\n      <use xlink:href=\"#DejaVuSans-81\"/>\r\n      <use x=\"78.710938\" xlink:href=\"#DejaVuSans-117\"/>\r\n      <use x=\"142.089844\" xlink:href=\"#DejaVuSans-97\"/>\r\n      <use x=\"203.369141\" xlink:href=\"#DejaVuSans-110\"/>\r\n      <use x=\"266.748047\" xlink:href=\"#DejaVuSans-116\"/>\r\n      <use x=\"305.957031\" xlink:href=\"#DejaVuSans-105\"/>\r\n      <use x=\"333.740234\" xlink:href=\"#DejaVuSans-116\"/>\r\n      <use x=\"372.949219\" xlink:href=\"#DejaVuSans-121\"/>\r\n     </g>\r\n    </g>\r\n   </g>\r\n   <g id=\"matplotlib.axis_2\">\r\n    <g id=\"ytick_1\">\r\n     <g id=\"line2d_7\">\r\n      <defs>\r\n       <path d=\"M 0 0 \r\nL -3.5 0 \r\n\" id=\"m10e775e049\" style=\"stroke:#000000;stroke-width:0.8;\"/>\r\n      </defs>\r\n      <g>\r\n       <use style=\"stroke:#000000;stroke-width:0.8;\" x=\"46.965625\" xlink:href=\"#m10e775e049\" y=\"214.756364\"/>\r\n      </g>\r\n     </g>\r\n     <g id=\"text_8\">\r\n      <!-- 100 -->\r\n      <g transform=\"translate(20.878125 218.555582)scale(0.1 -0.1)\">\r\n       <use xlink:href=\"#DejaVuSans-49\"/>\r\n       <use x=\"63.623047\" xlink:href=\"#DejaVuSans-48\"/>\r\n       <use x=\"127.246094\" xlink:href=\"#DejaVuSans-48\"/>\r\n      </g>\r\n     </g>\r\n    </g>\r\n    <g id=\"ytick_2\">\r\n     <g id=\"line2d_8\">\r\n      <g>\r\n       <use style=\"stroke:#000000;stroke-width:0.8;\" x=\"46.965625\" xlink:href=\"#m10e775e049\" y=\"175.221818\"/>\r\n      </g>\r\n     </g>\r\n     <g id=\"text_9\">\r\n      <!-- 120 -->\r\n      <g transform=\"translate(20.878125 179.021037)scale(0.1 -0.1)\">\r\n       <use xlink:href=\"#DejaVuSans-49\"/>\r\n       <use x=\"63.623047\" xlink:href=\"#DejaVuSans-50\"/>\r\n       <use x=\"127.246094\" xlink:href=\"#DejaVuSans-48\"/>\r\n      </g>\r\n     </g>\r\n    </g>\r\n    <g id=\"ytick_3\">\r\n     <g id=\"line2d_9\">\r\n      <g>\r\n       <use style=\"stroke:#000000;stroke-width:0.8;\" x=\"46.965625\" xlink:href=\"#m10e775e049\" y=\"135.687273\"/>\r\n      </g>\r\n     </g>\r\n     <g id=\"text_10\">\r\n      <!-- 140 -->\r\n      <g transform=\"translate(20.878125 139.486491)scale(0.1 -0.1)\">\r\n       <use xlink:href=\"#DejaVuSans-49\"/>\r\n       <use x=\"63.623047\" xlink:href=\"#DejaVuSans-52\"/>\r\n       <use x=\"127.246094\" xlink:href=\"#DejaVuSans-48\"/>\r\n      </g>\r\n     </g>\r\n    </g>\r\n    <g id=\"ytick_4\">\r\n     <g id=\"line2d_10\">\r\n      <g>\r\n       <use style=\"stroke:#000000;stroke-width:0.8;\" x=\"46.965625\" xlink:href=\"#m10e775e049\" y=\"96.152727\"/>\r\n      </g>\r\n     </g>\r\n     <g id=\"text_11\">\r\n      <!-- 160 -->\r\n      <g transform=\"translate(20.878125 99.951946)scale(0.1 -0.1)\">\r\n       <use xlink:href=\"#DejaVuSans-49\"/>\r\n       <use x=\"63.623047\" xlink:href=\"#DejaVuSans-54\"/>\r\n       <use x=\"127.246094\" xlink:href=\"#DejaVuSans-48\"/>\r\n      </g>\r\n     </g>\r\n    </g>\r\n    <g id=\"ytick_5\">\r\n     <g id=\"line2d_11\">\r\n      <g>\r\n       <use style=\"stroke:#000000;stroke-width:0.8;\" x=\"46.965625\" xlink:href=\"#m10e775e049\" y=\"56.618182\"/>\r\n      </g>\r\n     </g>\r\n     <g id=\"text_12\">\r\n      <!-- 180 -->\r\n      <g transform=\"translate(20.878125 60.417401)scale(0.1 -0.1)\">\r\n       <use xlink:href=\"#DejaVuSans-49\"/>\r\n       <use x=\"63.623047\" xlink:href=\"#DejaVuSans-56\"/>\r\n       <use x=\"127.246094\" xlink:href=\"#DejaVuSans-48\"/>\r\n      </g>\r\n     </g>\r\n    </g>\r\n    <g id=\"ytick_6\">\r\n     <g id=\"line2d_12\">\r\n      <g>\r\n       <use style=\"stroke:#000000;stroke-width:0.8;\" x=\"46.965625\" xlink:href=\"#m10e775e049\" y=\"17.083636\"/>\r\n      </g>\r\n     </g>\r\n     <g id=\"text_13\">\r\n      <!-- 200 -->\r\n      <g transform=\"translate(20.878125 20.882855)scale(0.1 -0.1)\">\r\n       <use xlink:href=\"#DejaVuSans-50\"/>\r\n       <use x=\"63.623047\" xlink:href=\"#DejaVuSans-48\"/>\r\n       <use x=\"127.246094\" xlink:href=\"#DejaVuSans-48\"/>\r\n      </g>\r\n     </g>\r\n    </g>\r\n    <g id=\"text_14\">\r\n     <!-- Price -->\r\n     <defs>\r\n      <path d=\"M 19.671875 64.796875 \r\nL 19.671875 37.40625 \r\nL 32.078125 37.40625 \r\nQ 38.96875 37.40625 42.71875 40.96875 \r\nQ 46.484375 44.53125 46.484375 51.125 \r\nQ 46.484375 57.671875 42.71875 61.234375 \r\nQ 38.96875 64.796875 32.078125 64.796875 \r\nz\r\nM 9.8125 72.90625 \r\nL 32.078125 72.90625 \r\nQ 44.34375 72.90625 50.609375 67.359375 \r\nQ 56.890625 61.8125 56.890625 51.125 \r\nQ 56.890625 40.328125 50.609375 34.8125 \r\nQ 44.34375 29.296875 32.078125 29.296875 \r\nL 19.671875 29.296875 \r\nL 19.671875 0 \r\nL 9.8125 0 \r\nz\r\n\" id=\"DejaVuSans-80\"/>\r\n      <path d=\"M 41.109375 46.296875 \r\nQ 39.59375 47.171875 37.8125 47.578125 \r\nQ 36.03125 48 33.890625 48 \r\nQ 26.265625 48 22.1875 43.046875 \r\nQ 18.109375 38.09375 18.109375 28.8125 \r\nL 18.109375 0 \r\nL 9.078125 0 \r\nL 9.078125 54.6875 \r\nL 18.109375 54.6875 \r\nL 18.109375 46.1875 \r\nQ 20.953125 51.171875 25.484375 53.578125 \r\nQ 30.03125 56 36.53125 56 \r\nQ 37.453125 56 38.578125 55.875 \r\nQ 39.703125 55.765625 41.0625 55.515625 \r\nz\r\n\" id=\"DejaVuSans-114\"/>\r\n      <path d=\"M 48.78125 52.59375 \r\nL 48.78125 44.1875 \r\nQ 44.96875 46.296875 41.140625 47.34375 \r\nQ 37.3125 48.390625 33.40625 48.390625 \r\nQ 24.65625 48.390625 19.8125 42.84375 \r\nQ 14.984375 37.3125 14.984375 27.296875 \r\nQ 14.984375 17.28125 19.8125 11.734375 \r\nQ 24.65625 6.203125 33.40625 6.203125 \r\nQ 37.3125 6.203125 41.140625 7.25 \r\nQ 44.96875 8.296875 48.78125 10.40625 \r\nL 48.78125 2.09375 \r\nQ 45.015625 0.34375 40.984375 -0.53125 \r\nQ 36.96875 -1.421875 32.421875 -1.421875 \r\nQ 20.0625 -1.421875 12.78125 6.34375 \r\nQ 5.515625 14.109375 5.515625 27.296875 \r\nQ 5.515625 40.671875 12.859375 48.328125 \r\nQ 20.21875 56 33.015625 56 \r\nQ 37.15625 56 41.109375 55.140625 \r\nQ 45.0625 54.296875 48.78125 52.59375 \r\nz\r\n\" id=\"DejaVuSans-99\"/>\r\n      <path d=\"M 56.203125 29.59375 \r\nL 56.203125 25.203125 \r\nL 14.890625 25.203125 \r\nQ 15.484375 15.921875 20.484375 11.0625 \r\nQ 25.484375 6.203125 34.421875 6.203125 \r\nQ 39.59375 6.203125 44.453125 7.46875 \r\nQ 49.3125 8.734375 54.109375 11.28125 \r\nL 54.109375 2.78125 \r\nQ 49.265625 0.734375 44.1875 -0.34375 \r\nQ 39.109375 -1.421875 33.890625 -1.421875 \r\nQ 20.796875 -1.421875 13.15625 6.1875 \r\nQ 5.515625 13.8125 5.515625 26.8125 \r\nQ 5.515625 40.234375 12.765625 48.109375 \r\nQ 20.015625 56 32.328125 56 \r\nQ 43.359375 56 49.78125 48.890625 \r\nQ 56.203125 41.796875 56.203125 29.59375 \r\nz\r\nM 47.21875 32.234375 \r\nQ 47.125 39.59375 43.09375 43.984375 \r\nQ 39.0625 48.390625 32.421875 48.390625 \r\nQ 24.90625 48.390625 20.390625 44.140625 \r\nQ 15.875 39.890625 15.1875 32.171875 \r\nz\r\n\" id=\"DejaVuSans-101\"/>\r\n     </defs>\r\n     <g transform=\"translate(14.798438 128.204375)rotate(-90)scale(0.1 -0.1)\">\r\n      <use xlink:href=\"#DejaVuSans-80\"/>\r\n      <use x=\"60.287109\" xlink:href=\"#DejaVuSans-114\"/>\r\n      <use x=\"101.400391\" xlink:href=\"#DejaVuSans-105\"/>\r\n      <use x=\"129.183594\" xlink:href=\"#DejaVuSans-99\"/>\r\n      <use x=\"184.164062\" xlink:href=\"#DejaVuSans-101\"/>\r\n     </g>\r\n    </g>\r\n   </g>\r\n   <g id=\"line2d_13\">\r\n    <path clip-path=\"url(#pb44461995d)\" d=\"M 62.183807 17.083636 \r\nL 92.62017 17.083636 \r\n\" style=\"fill:none;stroke:#ff0000;stroke-linecap:square;stroke-width:1.5;\"/>\r\n   </g>\r\n   <g id=\"line2d_14\">\r\n    <path clip-path=\"url(#pb44461995d)\" d=\"M 92.62017 17.083636 \r\nL 92.62017 40.804364 \r\n\" style=\"fill:none;stroke:#ff0000;stroke-linecap:square;stroke-width:1.5;\"/>\r\n   </g>\r\n   <g id=\"line2d_15\">\r\n    <path clip-path=\"url(#pb44461995d)\" d=\"M 92.62017 40.804364 \r\nL 123.056534 40.804364 \r\n\" style=\"fill:none;stroke:#ff0000;stroke-linecap:square;stroke-width:1.5;\"/>\r\n   </g>\r\n   <g id=\"line2d_16\">\r\n    <path clip-path=\"url(#pb44461995d)\" d=\"M 123.056534 40.804364 \r\nL 123.056534 62.548364 \r\n\" style=\"fill:none;stroke:#ff0000;stroke-linecap:square;stroke-width:1.5;\"/>\r\n   </g>\r\n   <g id=\"line2d_17\">\r\n    <path clip-path=\"url(#pb44461995d)\" d=\"M 123.056534 62.548364 \r\nL 153.492898 62.548364 \r\n\" style=\"fill:none;stroke:#ff0000;stroke-linecap:square;stroke-width:1.5;\"/>\r\n   </g>\r\n   <g id=\"line2d_18\">\r\n    <path clip-path=\"url(#pb44461995d)\" d=\"M 153.492898 62.548364 \r\nL 153.492898 84.292364 \r\n\" style=\"fill:none;stroke:#ff0000;stroke-linecap:square;stroke-width:1.5;\"/>\r\n   </g>\r\n   <g id=\"line2d_19\">\r\n    <path clip-path=\"url(#pb44461995d)\" d=\"M 153.492898 84.292364 \r\nL 183.929261 84.292364 \r\n\" style=\"fill:none;stroke:#ff0000;stroke-linecap:square;stroke-width:1.5;\"/>\r\n   </g>\r\n   <g id=\"line2d_20\">\r\n    <path clip-path=\"url(#pb44461995d)\" d=\"M 183.929261 84.292364 \r\nL 183.929261 106.036364 \r\n\" style=\"fill:none;stroke:#ff0000;stroke-linecap:square;stroke-width:1.5;\"/>\r\n   </g>\r\n   <g id=\"line2d_21\">\r\n    <path clip-path=\"url(#pb44461995d)\" d=\"M 183.929261 106.036364 \r\nL 214.365625 106.036364 \r\n\" style=\"fill:none;stroke:#ff0000;stroke-linecap:square;stroke-width:1.5;\"/>\r\n   </g>\r\n   <g id=\"line2d_22\">\r\n    <path clip-path=\"url(#pb44461995d)\" d=\"M 214.365625 106.036364 \r\nL 214.365625 127.780364 \r\n\" style=\"fill:none;stroke:#ff0000;stroke-linecap:square;stroke-width:1.5;\"/>\r\n   </g>\r\n   <g id=\"line2d_23\">\r\n    <path clip-path=\"url(#pb44461995d)\" d=\"M 214.365625 127.780364 \r\nL 244.801989 127.780364 \r\n\" style=\"fill:none;stroke:#ff0000;stroke-linecap:square;stroke-width:1.5;\"/>\r\n   </g>\r\n   <g id=\"line2d_24\">\r\n    <path clip-path=\"url(#pb44461995d)\" d=\"M 244.801989 127.780364 \r\nL 244.801989 149.524364 \r\n\" style=\"fill:none;stroke:#ff0000;stroke-linecap:square;stroke-width:1.5;\"/>\r\n   </g>\r\n   <g id=\"line2d_25\">\r\n    <path clip-path=\"url(#pb44461995d)\" d=\"M 244.801989 149.524364 \r\nL 275.238352 149.524364 \r\n\" style=\"fill:none;stroke:#ff0000;stroke-linecap:square;stroke-width:1.5;\"/>\r\n   </g>\r\n   <g id=\"line2d_26\">\r\n    <path clip-path=\"url(#pb44461995d)\" d=\"M 275.238352 149.524364 \r\nL 275.238352 171.268364 \r\n\" style=\"fill:none;stroke:#ff0000;stroke-linecap:square;stroke-width:1.5;\"/>\r\n   </g>\r\n   <g id=\"line2d_27\">\r\n    <path clip-path=\"url(#pb44461995d)\" d=\"M 275.238352 171.268364 \r\nL 305.674716 171.268364 \r\n\" style=\"fill:none;stroke:#ff0000;stroke-linecap:square;stroke-width:1.5;\"/>\r\n   </g>\r\n   <g id=\"line2d_28\">\r\n    <path clip-path=\"url(#pb44461995d)\" d=\"M 305.674716 171.268364 \r\nL 305.674716 193.012364 \r\n\" style=\"fill:none;stroke:#ff0000;stroke-linecap:square;stroke-width:1.5;\"/>\r\n   </g>\r\n   <g id=\"line2d_29\">\r\n    <path clip-path=\"url(#pb44461995d)\" d=\"M 305.674716 193.012364 \r\nL 336.11108 193.012364 \r\n\" style=\"fill:none;stroke:#ff0000;stroke-linecap:square;stroke-width:1.5;\"/>\r\n   </g>\r\n   <g id=\"line2d_30\">\r\n    <path clip-path=\"url(#pb44461995d)\" d=\"M 336.11108 193.012364 \r\nL 336.11108 214.756364 \r\n\" style=\"fill:none;stroke:#ff0000;stroke-linecap:square;stroke-width:1.5;\"/>\r\n   </g>\r\n   <g id=\"line2d_31\">\r\n    <path clip-path=\"url(#pb44461995d)\" d=\"M 336.11108 214.756364 \r\nL 366.547443 214.756364 \r\n\" style=\"fill:none;stroke:#ff0000;stroke-linecap:square;stroke-width:1.5;\"/>\r\n   </g>\r\n   <g id=\"line2d_32\">\r\n    <path clip-path=\"url(#pb44461995d)\" d=\"M 62.183807 214.756364 \r\nL 92.62017 214.756364 \r\n\" style=\"fill:none;stroke:#0000ff;stroke-linecap:square;stroke-width:1.5;\"/>\r\n   </g>\r\n   <g id=\"line2d_33\">\r\n    <path clip-path=\"url(#pb44461995d)\" d=\"M 92.62017 214.756364 \r\nL 92.62017 193.012364 \r\n\" style=\"fill:none;stroke:#0000ff;stroke-linecap:square;stroke-width:1.5;\"/>\r\n   </g>\r\n   <g id=\"line2d_34\">\r\n    <path clip-path=\"url(#pb44461995d)\" d=\"M 92.62017 193.012364 \r\nL 123.056534 193.012364 \r\n\" style=\"fill:none;stroke:#0000ff;stroke-linecap:square;stroke-width:1.5;\"/>\r\n   </g>\r\n   <g id=\"line2d_35\">\r\n    <path clip-path=\"url(#pb44461995d)\" d=\"M 123.056534 193.012364 \r\nL 123.056534 171.268364 \r\n\" style=\"fill:none;stroke:#0000ff;stroke-linecap:square;stroke-width:1.5;\"/>\r\n   </g>\r\n   <g id=\"line2d_36\">\r\n    <path clip-path=\"url(#pb44461995d)\" d=\"M 123.056534 171.268364 \r\nL 153.492898 171.268364 \r\n\" style=\"fill:none;stroke:#0000ff;stroke-linecap:square;stroke-width:1.5;\"/>\r\n   </g>\r\n   <g id=\"line2d_37\">\r\n    <path clip-path=\"url(#pb44461995d)\" d=\"M 153.492898 171.268364 \r\nL 153.492898 149.524364 \r\n\" style=\"fill:none;stroke:#0000ff;stroke-linecap:square;stroke-width:1.5;\"/>\r\n   </g>\r\n   <g id=\"line2d_38\">\r\n    <path clip-path=\"url(#pb44461995d)\" d=\"M 153.492898 149.524364 \r\nL 183.929261 149.524364 \r\n\" style=\"fill:none;stroke:#0000ff;stroke-linecap:square;stroke-width:1.5;\"/>\r\n   </g>\r\n   <g id=\"line2d_39\">\r\n    <path clip-path=\"url(#pb44461995d)\" d=\"M 183.929261 149.524364 \r\nL 183.929261 127.780364 \r\n\" style=\"fill:none;stroke:#0000ff;stroke-linecap:square;stroke-width:1.5;\"/>\r\n   </g>\r\n   <g id=\"line2d_40\">\r\n    <path clip-path=\"url(#pb44461995d)\" d=\"M 183.929261 127.780364 \r\nL 214.365625 127.780364 \r\n\" style=\"fill:none;stroke:#0000ff;stroke-linecap:square;stroke-width:1.5;\"/>\r\n   </g>\r\n   <g id=\"line2d_41\">\r\n    <path clip-path=\"url(#pb44461995d)\" d=\"M 214.365625 127.780364 \r\nL 214.365625 106.036364 \r\n\" style=\"fill:none;stroke:#0000ff;stroke-linecap:square;stroke-width:1.5;\"/>\r\n   </g>\r\n   <g id=\"line2d_42\">\r\n    <path clip-path=\"url(#pb44461995d)\" d=\"M 214.365625 106.036364 \r\nL 244.801989 106.036364 \r\n\" style=\"fill:none;stroke:#0000ff;stroke-linecap:square;stroke-width:1.5;\"/>\r\n   </g>\r\n   <g id=\"line2d_43\">\r\n    <path clip-path=\"url(#pb44461995d)\" d=\"M 244.801989 106.036364 \r\nL 244.801989 84.292364 \r\n\" style=\"fill:none;stroke:#0000ff;stroke-linecap:square;stroke-width:1.5;\"/>\r\n   </g>\r\n   <g id=\"line2d_44\">\r\n    <path clip-path=\"url(#pb44461995d)\" d=\"M 244.801989 84.292364 \r\nL 275.238352 84.292364 \r\n\" style=\"fill:none;stroke:#0000ff;stroke-linecap:square;stroke-width:1.5;\"/>\r\n   </g>\r\n   <g id=\"line2d_45\">\r\n    <path clip-path=\"url(#pb44461995d)\" d=\"M 275.238352 84.292364 \r\nL 275.238352 62.548364 \r\n\" style=\"fill:none;stroke:#0000ff;stroke-linecap:square;stroke-width:1.5;\"/>\r\n   </g>\r\n   <g id=\"line2d_46\">\r\n    <path clip-path=\"url(#pb44461995d)\" d=\"M 275.238352 62.548364 \r\nL 305.674716 62.548364 \r\n\" style=\"fill:none;stroke:#0000ff;stroke-linecap:square;stroke-width:1.5;\"/>\r\n   </g>\r\n   <g id=\"line2d_47\">\r\n    <path clip-path=\"url(#pb44461995d)\" d=\"M 305.674716 62.548364 \r\nL 305.674716 40.804364 \r\n\" style=\"fill:none;stroke:#0000ff;stroke-linecap:square;stroke-width:1.5;\"/>\r\n   </g>\r\n   <g id=\"line2d_48\">\r\n    <path clip-path=\"url(#pb44461995d)\" d=\"M 305.674716 40.804364 \r\nL 336.11108 40.804364 \r\n\" style=\"fill:none;stroke:#0000ff;stroke-linecap:square;stroke-width:1.5;\"/>\r\n   </g>\r\n   <g id=\"line2d_49\">\r\n    <path clip-path=\"url(#pb44461995d)\" d=\"M 336.11108 40.804364 \r\nL 336.11108 17.083636 \r\n\" style=\"fill:none;stroke:#0000ff;stroke-linecap:square;stroke-width:1.5;\"/>\r\n   </g>\r\n   <g id=\"line2d_50\">\r\n    <path clip-path=\"url(#pb44461995d)\" d=\"M 336.11108 17.083636 \r\nL 366.547443 17.083636 \r\n\" style=\"fill:none;stroke:#0000ff;stroke-linecap:square;stroke-width:1.5;\"/>\r\n   </g>\r\n   <g id=\"patch_3\">\r\n    <path d=\"M 46.965625 224.64 \r\nL 46.965625 7.2 \r\n\" style=\"fill:none;stroke:#000000;stroke-linecap:square;stroke-linejoin:miter;stroke-width:0.8;\"/>\r\n   </g>\r\n   <g id=\"patch_4\">\r\n    <path d=\"M 381.765625 224.64 \r\nL 381.765625 7.2 \r\n\" style=\"fill:none;stroke:#000000;stroke-linecap:square;stroke-linejoin:miter;stroke-width:0.8;\"/>\r\n   </g>\r\n   <g id=\"patch_5\">\r\n    <path d=\"M 46.965625 224.64 \r\nL 381.765625 224.64 \r\n\" style=\"fill:none;stroke:#000000;stroke-linecap:square;stroke-linejoin:miter;stroke-width:0.8;\"/>\r\n   </g>\r\n   <g id=\"patch_6\">\r\n    <path d=\"M 46.965625 7.2 \r\nL 381.765625 7.2 \r\n\" style=\"fill:none;stroke:#000000;stroke-linecap:square;stroke-linejoin:miter;stroke-width:0.8;\"/>\r\n   </g>\r\n   <g id=\"legend_1\">\r\n    <g id=\"patch_7\">\r\n     <path d=\"M 300.357813 132.098125 \r\nL 374.765625 132.098125 \r\nQ 376.765625 132.098125 376.765625 130.098125 \r\nL 376.765625 101.741875 \r\nQ 376.765625 99.741875 374.765625 99.741875 \r\nL 300.357813 99.741875 \r\nQ 298.357813 99.741875 298.357813 101.741875 \r\nL 298.357813 130.098125 \r\nQ 298.357813 132.098125 300.357813 132.098125 \r\nz\r\n\" style=\"fill:#ffffff;opacity:0.8;stroke:#cccccc;stroke-linejoin:miter;\"/>\r\n    </g>\r\n    <g id=\"line2d_51\">\r\n     <path d=\"M 302.357813 107.840312 \r\nL 322.357813 107.840312 \r\n\" style=\"fill:none;stroke:#ff0000;stroke-linecap:square;stroke-width:1.5;\"/>\r\n    </g>\r\n    <g id=\"line2d_52\"/>\r\n    <g id=\"text_15\">\r\n     <!-- Demand -->\r\n     <defs>\r\n      <path d=\"M 19.671875 64.796875 \r\nL 19.671875 8.109375 \r\nL 31.59375 8.109375 \r\nQ 46.6875 8.109375 53.6875 14.9375 \r\nQ 60.6875 21.78125 60.6875 36.53125 \r\nQ 60.6875 51.171875 53.6875 57.984375 \r\nQ 46.6875 64.796875 31.59375 64.796875 \r\nz\r\nM 9.8125 72.90625 \r\nL 30.078125 72.90625 \r\nQ 51.265625 72.90625 61.171875 64.09375 \r\nQ 71.09375 55.28125 71.09375 36.53125 \r\nQ 71.09375 17.671875 61.125 8.828125 \r\nQ 51.171875 0 30.078125 0 \r\nL 9.8125 0 \r\nz\r\n\" id=\"DejaVuSans-68\"/>\r\n      <path d=\"M 52 44.1875 \r\nQ 55.375 50.25 60.0625 53.125 \r\nQ 64.75 56 71.09375 56 \r\nQ 79.640625 56 84.28125 50.015625 \r\nQ 88.921875 44.046875 88.921875 33.015625 \r\nL 88.921875 0 \r\nL 79.890625 0 \r\nL 79.890625 32.71875 \r\nQ 79.890625 40.578125 77.09375 44.375 \r\nQ 74.3125 48.1875 68.609375 48.1875 \r\nQ 61.625 48.1875 57.5625 43.546875 \r\nQ 53.515625 38.921875 53.515625 30.90625 \r\nL 53.515625 0 \r\nL 44.484375 0 \r\nL 44.484375 32.71875 \r\nQ 44.484375 40.625 41.703125 44.40625 \r\nQ 38.921875 48.1875 33.109375 48.1875 \r\nQ 26.21875 48.1875 22.15625 43.53125 \r\nQ 18.109375 38.875 18.109375 30.90625 \r\nL 18.109375 0 \r\nL 9.078125 0 \r\nL 9.078125 54.6875 \r\nL 18.109375 54.6875 \r\nL 18.109375 46.1875 \r\nQ 21.1875 51.21875 25.484375 53.609375 \r\nQ 29.78125 56 35.6875 56 \r\nQ 41.65625 56 45.828125 52.96875 \r\nQ 50 49.953125 52 44.1875 \r\nz\r\n\" id=\"DejaVuSans-109\"/>\r\n      <path d=\"M 45.40625 46.390625 \r\nL 45.40625 75.984375 \r\nL 54.390625 75.984375 \r\nL 54.390625 0 \r\nL 45.40625 0 \r\nL 45.40625 8.203125 \r\nQ 42.578125 3.328125 38.25 0.953125 \r\nQ 33.9375 -1.421875 27.875 -1.421875 \r\nQ 17.96875 -1.421875 11.734375 6.484375 \r\nQ 5.515625 14.40625 5.515625 27.296875 \r\nQ 5.515625 40.1875 11.734375 48.09375 \r\nQ 17.96875 56 27.875 56 \r\nQ 33.9375 56 38.25 53.625 \r\nQ 42.578125 51.265625 45.40625 46.390625 \r\nz\r\nM 14.796875 27.296875 \r\nQ 14.796875 17.390625 18.875 11.75 \r\nQ 22.953125 6.109375 30.078125 6.109375 \r\nQ 37.203125 6.109375 41.296875 11.75 \r\nQ 45.40625 17.390625 45.40625 27.296875 \r\nQ 45.40625 37.203125 41.296875 42.84375 \r\nQ 37.203125 48.484375 30.078125 48.484375 \r\nQ 22.953125 48.484375 18.875 42.84375 \r\nQ 14.796875 37.203125 14.796875 27.296875 \r\nz\r\n\" id=\"DejaVuSans-100\"/>\r\n     </defs>\r\n     <g transform=\"translate(330.357813 111.340312)scale(0.1 -0.1)\">\r\n      <use xlink:href=\"#DejaVuSans-68\"/>\r\n      <use x=\"77.001953\" xlink:href=\"#DejaVuSans-101\"/>\r\n      <use x=\"138.525391\" xlink:href=\"#DejaVuSans-109\"/>\r\n      <use x=\"235.9375\" xlink:href=\"#DejaVuSans-97\"/>\r\n      <use x=\"297.216797\" xlink:href=\"#DejaVuSans-110\"/>\r\n      <use x=\"360.595703\" xlink:href=\"#DejaVuSans-100\"/>\r\n     </g>\r\n    </g>\r\n    <g id=\"line2d_53\">\r\n     <path d=\"M 302.357813 122.518437 \r\nL 322.357813 122.518437 \r\n\" style=\"fill:none;stroke:#0000ff;stroke-linecap:square;stroke-width:1.5;\"/>\r\n    </g>\r\n    <g id=\"line2d_54\"/>\r\n    <g id=\"text_16\">\r\n     <!-- Supply -->\r\n     <defs>\r\n      <path d=\"M 53.515625 70.515625 \r\nL 53.515625 60.890625 \r\nQ 47.90625 63.578125 42.921875 64.890625 \r\nQ 37.9375 66.21875 33.296875 66.21875 \r\nQ 25.25 66.21875 20.875 63.09375 \r\nQ 16.5 59.96875 16.5 54.203125 \r\nQ 16.5 49.359375 19.40625 46.890625 \r\nQ 22.3125 44.4375 30.421875 42.921875 \r\nL 36.375 41.703125 \r\nQ 47.40625 39.59375 52.65625 34.296875 \r\nQ 57.90625 29 57.90625 20.125 \r\nQ 57.90625 9.515625 50.796875 4.046875 \r\nQ 43.703125 -1.421875 29.984375 -1.421875 \r\nQ 24.8125 -1.421875 18.96875 -0.25 \r\nQ 13.140625 0.921875 6.890625 3.21875 \r\nL 6.890625 13.375 \r\nQ 12.890625 10.015625 18.65625 8.296875 \r\nQ 24.421875 6.59375 29.984375 6.59375 \r\nQ 38.421875 6.59375 43.015625 9.90625 \r\nQ 47.609375 13.234375 47.609375 19.390625 \r\nQ 47.609375 24.75 44.3125 27.78125 \r\nQ 41.015625 30.8125 33.5 32.328125 \r\nL 27.484375 33.5 \r\nQ 16.453125 35.6875 11.515625 40.375 \r\nQ 6.59375 45.0625 6.59375 53.421875 \r\nQ 6.59375 63.09375 13.40625 68.65625 \r\nQ 20.21875 74.21875 32.171875 74.21875 \r\nQ 37.3125 74.21875 42.625 73.28125 \r\nQ 47.953125 72.359375 53.515625 70.515625 \r\nz\r\n\" id=\"DejaVuSans-83\"/>\r\n      <path d=\"M 18.109375 8.203125 \r\nL 18.109375 -20.796875 \r\nL 9.078125 -20.796875 \r\nL 9.078125 54.6875 \r\nL 18.109375 54.6875 \r\nL 18.109375 46.390625 \r\nQ 20.953125 51.265625 25.265625 53.625 \r\nQ 29.59375 56 35.59375 56 \r\nQ 45.5625 56 51.78125 48.09375 \r\nQ 58.015625 40.1875 58.015625 27.296875 \r\nQ 58.015625 14.40625 51.78125 6.484375 \r\nQ 45.5625 -1.421875 35.59375 -1.421875 \r\nQ 29.59375 -1.421875 25.265625 0.953125 \r\nQ 20.953125 3.328125 18.109375 8.203125 \r\nz\r\nM 48.6875 27.296875 \r\nQ 48.6875 37.203125 44.609375 42.84375 \r\nQ 40.53125 48.484375 33.40625 48.484375 \r\nQ 26.265625 48.484375 22.1875 42.84375 \r\nQ 18.109375 37.203125 18.109375 27.296875 \r\nQ 18.109375 17.390625 22.1875 11.75 \r\nQ 26.265625 6.109375 33.40625 6.109375 \r\nQ 40.53125 6.109375 44.609375 11.75 \r\nQ 48.6875 17.390625 48.6875 27.296875 \r\nz\r\n\" id=\"DejaVuSans-112\"/>\r\n      <path d=\"M 9.421875 75.984375 \r\nL 18.40625 75.984375 \r\nL 18.40625 0 \r\nL 9.421875 0 \r\nz\r\n\" id=\"DejaVuSans-108\"/>\r\n     </defs>\r\n     <g transform=\"translate(330.357813 126.018437)scale(0.1 -0.1)\">\r\n      <use xlink:href=\"#DejaVuSans-83\"/>\r\n      <use x=\"63.476562\" xlink:href=\"#DejaVuSans-117\"/>\r\n      <use x=\"126.855469\" xlink:href=\"#DejaVuSans-112\"/>\r\n      <use x=\"190.332031\" xlink:href=\"#DejaVuSans-112\"/>\r\n      <use x=\"253.808594\" xlink:href=\"#DejaVuSans-108\"/>\r\n      <use x=\"281.591797\" xlink:href=\"#DejaVuSans-121\"/>\r\n     </g>\r\n    </g>\r\n   </g>\r\n  </g>\r\n </g>\r\n <defs>\r\n  <clipPath id=\"pb44461995d\">\r\n   <rect height=\"217.44\" width=\"334.8\" x=\"46.965625\" y=\"7.2\"/>\r\n  </clipPath>\r\n </defs>\r\n</svg>\r\n",
      "image/png": "[encoded data removed]"
     },
     "metadata": {
      "needs_background": "light"
     }
    }
   ],
   "source": [
    "sup_dem(10, [sup_range], 10, [dem_range], 'fixed')"
   ]
  },
  {
   "cell_type": "markdown",
   "metadata": {},
   "source": [
    "You should now see demand and supply that you have configured for the market plotted above."
   ]
  },
  {
   "cell_type": "markdown",
   "metadata": {
    "tags": []
   },
   "source": [
    "### Order Schedule "
   ]
  },
  {
   "cell_type": "markdown",
   "metadata": {},
   "source": [
    "The last thing we need to define is the order schedule. The order schedule, defines how orders to traders are replenished. This is the same idea as getting a new envelop in the live experiment we had in class. In BSE this can either happen simultaneously, where all traders are given new orders at the same time - exactly like we did in class, or continually where different traders are given new order at different times.\n",
    "\n",
    "The order schedule is a dictionary containing 4 key-value pairs. The corresponding keys are **\"sup\", \"dem\", \"interval\"** and **\"timemode\"**.\n",
    "\n",
    "- Sup and dem, should match the supply and demand schedules we want to use in our experiment (defined above);\n",
    "- Interval is a number, that defines the number of seconds that the order schedule takes to cycle through all the traders and supply them with new orders;\n",
    "- Timemode is a string that defines the method in which traders are re-supplied with orders and can be one of the following:\n",
    "    - \"periodic\": where all the traders are given new orders periodically at the same time (at the beginning of every interval)\n",
    "    - \"drip-fixed\": where orders are given to traders one at a time at fixed intervals \n",
    "    - \"drip-jitter\": similar to the previous but the intervals are not fixed, thus this can be thought of as having a drip-fixed timemode with some added random noise\n",
    "    - \"drip-poisson\": where new orders arrive at intervals modeled with a poisson distribution\n",
    "    \n",
    "BSE makes sure that all traders are supplied with a new order once in the specified interval even if continues (\"drip\") timemodes are used. This can however be relaxed.\n",
    "\n",
    "Let's define our own order schedule, using a 60 second interval and a periodic order replenishment:"
   ]
  },
  {
   "cell_type": "code",
   "execution_count": 18,
   "metadata": {},
   "outputs": [],
   "source": [
    "order_interval = 60\n",
    "order_sched = order_sched = {'sup': supply_schedule, 'dem': demand_schedule,\n",
    "                   'interval': 10, 'timemode': 'periodic'}"
   ]
  },
  {
   "cell_type": "markdown",
   "metadata": {
    "tags": []
   },
   "source": [
    "### Market Session"
   ]
  },
  {
   "cell_type": "markdown",
   "metadata": {},
   "source": [
    "We now have defined all the things we need to run a market session!\n",
    "\n",
    "To do this, we need to call the **market_session** function. This function take in a lot of arguments:\n",
    "\n",
    "- The Session ID which is a string used to identify the experiment we are going to run;\n",
    "- The start time and end time which are numbers and represent the start and end times of our experiment;\n",
    "- The trader specification we want for our experiment;\n",
    "- The order schedule we want for our experiment;\n",
    "- A file where BSE will write data regarding the market session, we will see what data are written later on in more detail;\n",
    "- A boolean flag that tells BSE whether or not to produce detailed data files;\n",
    "- Another boolean flag telling BSE whether or not to produce output on the terminal during the run of the session (can be useful for debugging)\n",
    "\n",
    "The following should run one market session with the specified configuration we defined in the previous cells and save the results in a csv file called 'test_1_avg_balance.csv':"
   ]
  },
  {
   "cell_type": "code",
   "execution_count": 20,
   "metadata": {},
   "outputs": [],
   "source": [
    "trial_id = 'test_1'\n",
    "tdump = open('test_1_avg_balance.csv','w')\n",
    "dump_all = False\n",
    "verbose = False\n",
    "\n",
    "market_session(trial_id, start_time, end_time, traders_spec, order_sched, tdump, dump_all, verbose)\n",
    "\n",
    "tdump.close()"
   ]
  },
  {
   "cell_type": "markdown",
   "metadata": {},
   "source": [
    "Open the 'test_1_avg_balance.csv' file and look at the data inside. What do you think these represent?\n",
    "\n",
    "Let's now run the same code with dump_all flag as True:"
   ]
  },
  {
   "cell_type": "code",
   "execution_count": 21,
   "metadata": {},
   "outputs": [],
   "source": [
    "trial_id = 'test_1'\n",
    "tdump = open('test_1_avg_balance2.csv','w')\n",
    "dump_all = True\n",
    "verbose = False\n",
    "\n",
    "market_session(trial_id, start_time, end_time, traders_spec, order_sched, tdump, dump_all, verbose)\n",
    "\n",
    "tdump.close()"
   ]
  },
  {
   "cell_type": "markdown",
   "metadata": {},
   "source": [
    "If you take a look at your folder now, you will see that the market session produced 3 csv files.\n",
    "\n",
    "Let's start with \"test_1_avg_balance2.csv\", this is similar to \"test_1_avg_balance.csv\" but there are a lot more lines in it.\n",
    "\n",
    "Each line in both files, starts with the session id, and the time (in seconds, relative to the experiment) at which the data is written to the file. \n",
    "\n",
    "**Question**: Given this, how are the 2 files different?"
   ]
  },
  {
   "cell_type": "markdown",
   "metadata": {
    "tags": []
   },
   "source": [
    "The following two columns are the best bid and best offer (or 'None' if they're undefined) currently in the LOB.\n",
    "\n",
    "Following are 4 columns for each trader type in the system (i.e. if there's only one trader type, there will be 4 columns, if there are 2 then 8 and so on and so forth). The 4 columns in order are the trader type, the total profit for the traders of this type, the number of traders of this type, and finally the average profit per trader of this type.\n",
    "\n",
    "Additionally, when the dump_all flag is set, BSE produces 2 additional csv files. \n",
    "\n",
    "One (test_1_transactions.csv in this case) includes all the trades that took place writing each on a single line with the second column being the time the trade took place and the second the price of the trade. This is basically the tape of the exchange.\n",
    "\n",
    "The other (test_1_blotters.csv in this case) saves the blotter of each trader (the blotter stores the details regarding the trades the trader was involved in). For each trader (both buyers and sellers) there is one line with the trader's id and the amount of items in it's blotter. Then for every item in it's blotter, a line is printed with the trader's id and the blotter item. Each blotter item contains the time the trade took place, the price, the id of the buyer, the id of the seller, and the quantity (which is always 1 in this version of BSE).\n",
    "\n",
    "We can use the transactions csv file to plot a graph of the trades that took place using the first provided \"plot_trades\" function:"
   ]
  },
  {
   "cell_type": "code",
   "execution_count": 22,
   "metadata": {},
   "outputs": [
    {
     "output_type": "display_data",
     "data": {
      "text/plain": "<Figure size 432x288 with 1 Axes>",
      "image/svg+xml": "<?xml version=\"1.0\" encoding=\"utf-8\" standalone=\"no\"?>\r\n<!DOCTYPE svg PUBLIC \"-//W3C//DTD SVG 1.1//EN\"\r\n  \"http://www.w3.org/Graphics/SVG/1.1/DTD/svg11.dtd\">\r\n<!-- Created with matplotlib (https://matplotlib.org/) -->\r\n<svg height=\"248.518125pt\" version=\"1.1\" viewBox=\"0 0 383.703977 248.518125\" width=\"383.703977pt\" xmlns=\"http://www.w3.org/2000/svg\" xmlns:xlink=\"http://www.w3.org/1999/xlink\">\r\n <defs>\r\n  <style type=\"text/css\">\r\n*{stroke-linecap:butt;stroke-linejoin:round;}\r\n  </style>\r\n </defs>\r\n <g id=\"figure_1\">\r\n  <g id=\"patch_1\">\r\n   <path d=\"M 0 248.518125 \r\nL 383.703977 248.518125 \r\nL 383.703977 0 \r\nL 0 0 \r\nz\r\n\" style=\"fill:none;\"/>\r\n  </g>\r\n  <g id=\"axes_1\">\r\n   <g id=\"patch_2\">\r\n    <path d=\"M 33.2875 224.64 \r\nL 368.0875 224.64 \r\nL 368.0875 7.2 \r\nL 33.2875 7.2 \r\nz\r\n\" style=\"fill:#ffffff;\"/>\r\n   </g>\r\n   <g id=\"matplotlib.axis_1\">\r\n    <g id=\"xtick_1\">\r\n     <g id=\"line2d_1\">\r\n      <defs>\r\n       <path d=\"M 0 0 \r\nL 0 3.5 \r\n\" id=\"m26ae1ebbb3\" style=\"stroke:#000000;stroke-width:0.8;\"/>\r\n      </defs>\r\n      <g>\r\n       <use style=\"stroke:#000000;stroke-width:0.8;\" x=\"66.354167\" xlink:href=\"#m26ae1ebbb3\" y=\"224.64\"/>\r\n      </g>\r\n     </g>\r\n     <g id=\"text_1\">\r\n      <!-- 20 -->\r\n      <defs>\r\n       <path d=\"M 19.1875 8.296875 \r\nL 53.609375 8.296875 \r\nL 53.609375 0 \r\nL 7.328125 0 \r\nL 7.328125 8.296875 \r\nQ 12.9375 14.109375 22.625 23.890625 \r\nQ 32.328125 33.6875 34.8125 36.53125 \r\nQ 39.546875 41.84375 41.421875 45.53125 \r\nQ 43.3125 49.21875 43.3125 52.78125 \r\nQ 43.3125 58.59375 39.234375 62.25 \r\nQ 35.15625 65.921875 28.609375 65.921875 \r\nQ 23.96875 65.921875 18.8125 64.3125 \r\nQ 13.671875 62.703125 7.8125 59.421875 \r\nL 7.8125 69.390625 \r\nQ 13.765625 71.78125 18.9375 73 \r\nQ 24.125 74.21875 28.421875 74.21875 \r\nQ 39.75 74.21875 46.484375 68.546875 \r\nQ 53.21875 62.890625 53.21875 53.421875 \r\nQ 53.21875 48.921875 51.53125 44.890625 \r\nQ 49.859375 40.875 45.40625 35.40625 \r\nQ 44.1875 33.984375 37.640625 27.21875 \r\nQ 31.109375 20.453125 19.1875 8.296875 \r\nz\r\n\" id=\"DejaVuSans-50\"/>\r\n       <path d=\"M 31.78125 66.40625 \r\nQ 24.171875 66.40625 20.328125 58.90625 \r\nQ 16.5 51.421875 16.5 36.375 \r\nQ 16.5 21.390625 20.328125 13.890625 \r\nQ 24.171875 6.390625 31.78125 6.390625 \r\nQ 39.453125 6.390625 43.28125 13.890625 \r\nQ 47.125 21.390625 47.125 36.375 \r\nQ 47.125 51.421875 43.28125 58.90625 \r\nQ 39.453125 66.40625 31.78125 66.40625 \r\nz\r\nM 31.78125 74.21875 \r\nQ 44.046875 74.21875 50.515625 64.515625 \r\nQ 56.984375 54.828125 56.984375 36.375 \r\nQ 56.984375 17.96875 50.515625 8.265625 \r\nQ 44.046875 -1.421875 31.78125 -1.421875 \r\nQ 19.53125 -1.421875 13.0625 8.265625 \r\nQ 6.59375 17.96875 6.59375 36.375 \r\nQ 6.59375 54.828125 13.0625 64.515625 \r\nQ 19.53125 74.21875 31.78125 74.21875 \r\nz\r\n\" id=\"DejaVuSans-48\"/>\r\n      </defs>\r\n      <g transform=\"translate(59.991667 239.238437)scale(0.1 -0.1)\">\r\n       <use xlink:href=\"#DejaVuSans-50\"/>\r\n       <use x=\"63.623047\" xlink:href=\"#DejaVuSans-48\"/>\r\n      </g>\r\n     </g>\r\n    </g>\r\n    <g id=\"xtick_2\">\r\n     <g id=\"line2d_2\">\r\n      <g>\r\n       <use style=\"stroke:#000000;stroke-width:0.8;\" x=\"103.929924\" xlink:href=\"#m26ae1ebbb3\" y=\"224.64\"/>\r\n      </g>\r\n     </g>\r\n     <g id=\"text_2\">\r\n      <!-- 40 -->\r\n      <defs>\r\n       <path d=\"M 37.796875 64.3125 \r\nL 12.890625 25.390625 \r\nL 37.796875 25.390625 \r\nz\r\nM 35.203125 72.90625 \r\nL 47.609375 72.90625 \r\nL 47.609375 25.390625 \r\nL 58.015625 25.390625 \r\nL 58.015625 17.1875 \r\nL 47.609375 17.1875 \r\nL 47.609375 0 \r\nL 37.796875 0 \r\nL 37.796875 17.1875 \r\nL 4.890625 17.1875 \r\nL 4.890625 26.703125 \r\nz\r\n\" id=\"DejaVuSans-52\"/>\r\n      </defs>\r\n      <g transform=\"translate(97.567424 239.238437)scale(0.1 -0.1)\">\r\n       <use xlink:href=\"#DejaVuSans-52\"/>\r\n       <use x=\"63.623047\" xlink:href=\"#DejaVuSans-48\"/>\r\n      </g>\r\n     </g>\r\n    </g>\r\n    <g id=\"xtick_3\">\r\n     <g id=\"line2d_3\">\r\n      <g>\r\n       <use style=\"stroke:#000000;stroke-width:0.8;\" x=\"141.505682\" xlink:href=\"#m26ae1ebbb3\" y=\"224.64\"/>\r\n      </g>\r\n     </g>\r\n     <g id=\"text_3\">\r\n      <!-- 60 -->\r\n      <defs>\r\n       <path d=\"M 33.015625 40.375 \r\nQ 26.375 40.375 22.484375 35.828125 \r\nQ 18.609375 31.296875 18.609375 23.390625 \r\nQ 18.609375 15.53125 22.484375 10.953125 \r\nQ 26.375 6.390625 33.015625 6.390625 \r\nQ 39.65625 6.390625 43.53125 10.953125 \r\nQ 47.40625 15.53125 47.40625 23.390625 \r\nQ 47.40625 31.296875 43.53125 35.828125 \r\nQ 39.65625 40.375 33.015625 40.375 \r\nz\r\nM 52.59375 71.296875 \r\nL 52.59375 62.3125 \r\nQ 48.875 64.0625 45.09375 64.984375 \r\nQ 41.3125 65.921875 37.59375 65.921875 \r\nQ 27.828125 65.921875 22.671875 59.328125 \r\nQ 17.53125 52.734375 16.796875 39.40625 \r\nQ 19.671875 43.65625 24.015625 45.921875 \r\nQ 28.375 48.1875 33.59375 48.1875 \r\nQ 44.578125 48.1875 50.953125 41.515625 \r\nQ 57.328125 34.859375 57.328125 23.390625 \r\nQ 57.328125 12.15625 50.6875 5.359375 \r\nQ 44.046875 -1.421875 33.015625 -1.421875 \r\nQ 20.359375 -1.421875 13.671875 8.265625 \r\nQ 6.984375 17.96875 6.984375 36.375 \r\nQ 6.984375 53.65625 15.1875 63.9375 \r\nQ 23.390625 74.21875 37.203125 74.21875 \r\nQ 40.921875 74.21875 44.703125 73.484375 \r\nQ 48.484375 72.75 52.59375 71.296875 \r\nz\r\n\" id=\"DejaVuSans-54\"/>\r\n      </defs>\r\n      <g transform=\"translate(135.143182 239.238437)scale(0.1 -0.1)\">\r\n       <use xlink:href=\"#DejaVuSans-54\"/>\r\n       <use x=\"63.623047\" xlink:href=\"#DejaVuSans-48\"/>\r\n      </g>\r\n     </g>\r\n    </g>\r\n    <g id=\"xtick_4\">\r\n     <g id=\"line2d_4\">\r\n      <g>\r\n       <use style=\"stroke:#000000;stroke-width:0.8;\" x=\"179.081439\" xlink:href=\"#m26ae1ebbb3\" y=\"224.64\"/>\r\n      </g>\r\n     </g>\r\n     <g id=\"text_4\">\r\n      <!-- 80 -->\r\n      <defs>\r\n       <path d=\"M 31.78125 34.625 \r\nQ 24.75 34.625 20.71875 30.859375 \r\nQ 16.703125 27.09375 16.703125 20.515625 \r\nQ 16.703125 13.921875 20.71875 10.15625 \r\nQ 24.75 6.390625 31.78125 6.390625 \r\nQ 38.8125 6.390625 42.859375 10.171875 \r\nQ 46.921875 13.96875 46.921875 20.515625 \r\nQ 46.921875 27.09375 42.890625 30.859375 \r\nQ 38.875 34.625 31.78125 34.625 \r\nz\r\nM 21.921875 38.8125 \r\nQ 15.578125 40.375 12.03125 44.71875 \r\nQ 8.5 49.078125 8.5 55.328125 \r\nQ 8.5 64.0625 14.71875 69.140625 \r\nQ 20.953125 74.21875 31.78125 74.21875 \r\nQ 42.671875 74.21875 48.875 69.140625 \r\nQ 55.078125 64.0625 55.078125 55.328125 \r\nQ 55.078125 49.078125 51.53125 44.71875 \r\nQ 48 40.375 41.703125 38.8125 \r\nQ 48.828125 37.15625 52.796875 32.3125 \r\nQ 56.78125 27.484375 56.78125 20.515625 \r\nQ 56.78125 9.90625 50.3125 4.234375 \r\nQ 43.84375 -1.421875 31.78125 -1.421875 \r\nQ 19.734375 -1.421875 13.25 4.234375 \r\nQ 6.78125 9.90625 6.78125 20.515625 \r\nQ 6.78125 27.484375 10.78125 32.3125 \r\nQ 14.796875 37.15625 21.921875 38.8125 \r\nz\r\nM 18.3125 54.390625 \r\nQ 18.3125 48.734375 21.84375 45.5625 \r\nQ 25.390625 42.390625 31.78125 42.390625 \r\nQ 38.140625 42.390625 41.71875 45.5625 \r\nQ 45.3125 48.734375 45.3125 54.390625 \r\nQ 45.3125 60.0625 41.71875 63.234375 \r\nQ 38.140625 66.40625 31.78125 66.40625 \r\nQ 25.390625 66.40625 21.84375 63.234375 \r\nQ 18.3125 60.0625 18.3125 54.390625 \r\nz\r\n\" id=\"DejaVuSans-56\"/>\r\n      </defs>\r\n      <g transform=\"translate(172.718939 239.238437)scale(0.1 -0.1)\">\r\n       <use xlink:href=\"#DejaVuSans-56\"/>\r\n       <use x=\"63.623047\" xlink:href=\"#DejaVuSans-48\"/>\r\n      </g>\r\n     </g>\r\n    </g>\r\n    <g id=\"xtick_5\">\r\n     <g id=\"line2d_5\">\r\n      <g>\r\n       <use style=\"stroke:#000000;stroke-width:0.8;\" x=\"216.657197\" xlink:href=\"#m26ae1ebbb3\" y=\"224.64\"/>\r\n      </g>\r\n     </g>\r\n     <g id=\"text_5\">\r\n      <!-- 100 -->\r\n      <defs>\r\n       <path d=\"M 12.40625 8.296875 \r\nL 28.515625 8.296875 \r\nL 28.515625 63.921875 \r\nL 10.984375 60.40625 \r\nL 10.984375 69.390625 \r\nL 28.421875 72.90625 \r\nL 38.28125 72.90625 \r\nL 38.28125 8.296875 \r\nL 54.390625 8.296875 \r\nL 54.390625 0 \r\nL 12.40625 0 \r\nz\r\n\" id=\"DejaVuSans-49\"/>\r\n      </defs>\r\n      <g transform=\"translate(207.113447 239.238437)scale(0.1 -0.1)\">\r\n       <use xlink:href=\"#DejaVuSans-49\"/>\r\n       <use x=\"63.623047\" xlink:href=\"#DejaVuSans-48\"/>\r\n       <use x=\"127.246094\" xlink:href=\"#DejaVuSans-48\"/>\r\n      </g>\r\n     </g>\r\n    </g>\r\n    <g id=\"xtick_6\">\r\n     <g id=\"line2d_6\">\r\n      <g>\r\n       <use style=\"stroke:#000000;stroke-width:0.8;\" x=\"254.232955\" xlink:href=\"#m26ae1ebbb3\" y=\"224.64\"/>\r\n      </g>\r\n     </g>\r\n     <g id=\"text_6\">\r\n      <!-- 120 -->\r\n      <g transform=\"translate(244.689205 239.238437)scale(0.1 -0.1)\">\r\n       <use xlink:href=\"#DejaVuSans-49\"/>\r\n       <use x=\"63.623047\" xlink:href=\"#DejaVuSans-50\"/>\r\n       <use x=\"127.246094\" xlink:href=\"#DejaVuSans-48\"/>\r\n      </g>\r\n     </g>\r\n    </g>\r\n    <g id=\"xtick_7\">\r\n     <g id=\"line2d_7\">\r\n      <g>\r\n       <use style=\"stroke:#000000;stroke-width:0.8;\" x=\"291.808712\" xlink:href=\"#m26ae1ebbb3\" y=\"224.64\"/>\r\n      </g>\r\n     </g>\r\n     <g id=\"text_7\">\r\n      <!-- 140 -->\r\n      <g transform=\"translate(282.264962 239.238437)scale(0.1 -0.1)\">\r\n       <use xlink:href=\"#DejaVuSans-49\"/>\r\n       <use x=\"63.623047\" xlink:href=\"#DejaVuSans-52\"/>\r\n       <use x=\"127.246094\" xlink:href=\"#DejaVuSans-48\"/>\r\n      </g>\r\n     </g>\r\n    </g>\r\n    <g id=\"xtick_8\">\r\n     <g id=\"line2d_8\">\r\n      <g>\r\n       <use style=\"stroke:#000000;stroke-width:0.8;\" x=\"329.38447\" xlink:href=\"#m26ae1ebbb3\" y=\"224.64\"/>\r\n      </g>\r\n     </g>\r\n     <g id=\"text_8\">\r\n      <!-- 160 -->\r\n      <g transform=\"translate(319.84072 239.238437)scale(0.1 -0.1)\">\r\n       <use xlink:href=\"#DejaVuSans-49\"/>\r\n       <use x=\"63.623047\" xlink:href=\"#DejaVuSans-54\"/>\r\n       <use x=\"127.246094\" xlink:href=\"#DejaVuSans-48\"/>\r\n      </g>\r\n     </g>\r\n    </g>\r\n    <g id=\"xtick_9\">\r\n     <g id=\"line2d_9\">\r\n      <g>\r\n       <use style=\"stroke:#000000;stroke-width:0.8;\" x=\"366.960227\" xlink:href=\"#m26ae1ebbb3\" y=\"224.64\"/>\r\n      </g>\r\n     </g>\r\n     <g id=\"text_9\">\r\n      <!-- 180 -->\r\n      <g transform=\"translate(357.416477 239.238437)scale(0.1 -0.1)\">\r\n       <use xlink:href=\"#DejaVuSans-49\"/>\r\n       <use x=\"63.623047\" xlink:href=\"#DejaVuSans-56\"/>\r\n       <use x=\"127.246094\" xlink:href=\"#DejaVuSans-48\"/>\r\n      </g>\r\n     </g>\r\n    </g>\r\n   </g>\r\n   <g id=\"matplotlib.axis_2\">\r\n    <g id=\"ytick_1\">\r\n     <g id=\"line2d_10\">\r\n      <defs>\r\n       <path d=\"M 0 0 \r\nL -3.5 0 \r\n\" id=\"m5888a06b4f\" style=\"stroke:#000000;stroke-width:0.8;\"/>\r\n      </defs>\r\n      <g>\r\n       <use style=\"stroke:#000000;stroke-width:0.8;\" x=\"33.2875\" xlink:href=\"#m5888a06b4f\" y=\"207.696623\"/>\r\n      </g>\r\n     </g>\r\n     <g id=\"text_10\">\r\n      <!-- 60 -->\r\n      <g transform=\"translate(13.5625 211.495842)scale(0.1 -0.1)\">\r\n       <use xlink:href=\"#DejaVuSans-54\"/>\r\n       <use x=\"63.623047\" xlink:href=\"#DejaVuSans-48\"/>\r\n      </g>\r\n     </g>\r\n    </g>\r\n    <g id=\"ytick_2\">\r\n     <g id=\"line2d_11\">\r\n      <g>\r\n       <use style=\"stroke:#000000;stroke-width:0.8;\" x=\"33.2875\" xlink:href=\"#m5888a06b4f\" y=\"172.397922\"/>\r\n      </g>\r\n     </g>\r\n     <g id=\"text_11\">\r\n      <!-- 70 -->\r\n      <defs>\r\n       <path d=\"M 8.203125 72.90625 \r\nL 55.078125 72.90625 \r\nL 55.078125 68.703125 \r\nL 28.609375 0 \r\nL 18.3125 0 \r\nL 43.21875 64.59375 \r\nL 8.203125 64.59375 \r\nz\r\n\" id=\"DejaVuSans-55\"/>\r\n      </defs>\r\n      <g transform=\"translate(13.5625 176.197141)scale(0.1 -0.1)\">\r\n       <use xlink:href=\"#DejaVuSans-55\"/>\r\n       <use x=\"63.623047\" xlink:href=\"#DejaVuSans-48\"/>\r\n      </g>\r\n     </g>\r\n    </g>\r\n    <g id=\"ytick_3\">\r\n     <g id=\"line2d_12\">\r\n      <g>\r\n       <use style=\"stroke:#000000;stroke-width:0.8;\" x=\"33.2875\" xlink:href=\"#m5888a06b4f\" y=\"137.099221\"/>\r\n      </g>\r\n     </g>\r\n     <g id=\"text_12\">\r\n      <!-- 80 -->\r\n      <g transform=\"translate(13.5625 140.89844)scale(0.1 -0.1)\">\r\n       <use xlink:href=\"#DejaVuSans-56\"/>\r\n       <use x=\"63.623047\" xlink:href=\"#DejaVuSans-48\"/>\r\n      </g>\r\n     </g>\r\n    </g>\r\n    <g id=\"ytick_4\">\r\n     <g id=\"line2d_13\">\r\n      <g>\r\n       <use style=\"stroke:#000000;stroke-width:0.8;\" x=\"33.2875\" xlink:href=\"#m5888a06b4f\" y=\"101.800519\"/>\r\n      </g>\r\n     </g>\r\n     <g id=\"text_13\">\r\n      <!-- 90 -->\r\n      <defs>\r\n       <path d=\"M 10.984375 1.515625 \r\nL 10.984375 10.5 \r\nQ 14.703125 8.734375 18.5 7.8125 \r\nQ 22.3125 6.890625 25.984375 6.890625 \r\nQ 35.75 6.890625 40.890625 13.453125 \r\nQ 46.046875 20.015625 46.78125 33.40625 \r\nQ 43.953125 29.203125 39.59375 26.953125 \r\nQ 35.25 24.703125 29.984375 24.703125 \r\nQ 19.046875 24.703125 12.671875 31.3125 \r\nQ 6.296875 37.9375 6.296875 49.421875 \r\nQ 6.296875 60.640625 12.9375 67.421875 \r\nQ 19.578125 74.21875 30.609375 74.21875 \r\nQ 43.265625 74.21875 49.921875 64.515625 \r\nQ 56.59375 54.828125 56.59375 36.375 \r\nQ 56.59375 19.140625 48.40625 8.859375 \r\nQ 40.234375 -1.421875 26.421875 -1.421875 \r\nQ 22.703125 -1.421875 18.890625 -0.6875 \r\nQ 15.09375 0.046875 10.984375 1.515625 \r\nz\r\nM 30.609375 32.421875 \r\nQ 37.25 32.421875 41.125 36.953125 \r\nQ 45.015625 41.5 45.015625 49.421875 \r\nQ 45.015625 57.28125 41.125 61.84375 \r\nQ 37.25 66.40625 30.609375 66.40625 \r\nQ 23.96875 66.40625 20.09375 61.84375 \r\nQ 16.21875 57.28125 16.21875 49.421875 \r\nQ 16.21875 41.5 20.09375 36.953125 \r\nQ 23.96875 32.421875 30.609375 32.421875 \r\nz\r\n\" id=\"DejaVuSans-57\"/>\r\n      </defs>\r\n      <g transform=\"translate(13.5625 105.599738)scale(0.1 -0.1)\">\r\n       <use xlink:href=\"#DejaVuSans-57\"/>\r\n       <use x=\"63.623047\" xlink:href=\"#DejaVuSans-48\"/>\r\n      </g>\r\n     </g>\r\n    </g>\r\n    <g id=\"ytick_5\">\r\n     <g id=\"line2d_14\">\r\n      <g>\r\n       <use style=\"stroke:#000000;stroke-width:0.8;\" x=\"33.2875\" xlink:href=\"#m5888a06b4f\" y=\"66.501818\"/>\r\n      </g>\r\n     </g>\r\n     <g id=\"text_14\">\r\n      <!-- 100 -->\r\n      <g transform=\"translate(7.2 70.301037)scale(0.1 -0.1)\">\r\n       <use xlink:href=\"#DejaVuSans-49\"/>\r\n       <use x=\"63.623047\" xlink:href=\"#DejaVuSans-48\"/>\r\n       <use x=\"127.246094\" xlink:href=\"#DejaVuSans-48\"/>\r\n      </g>\r\n     </g>\r\n    </g>\r\n    <g id=\"ytick_6\">\r\n     <g id=\"line2d_15\">\r\n      <g>\r\n       <use style=\"stroke:#000000;stroke-width:0.8;\" x=\"33.2875\" xlink:href=\"#m5888a06b4f\" y=\"31.203117\"/>\r\n      </g>\r\n     </g>\r\n     <g id=\"text_15\">\r\n      <!-- 110 -->\r\n      <g transform=\"translate(7.2 35.002336)scale(0.1 -0.1)\">\r\n       <use xlink:href=\"#DejaVuSans-49\"/>\r\n       <use x=\"63.623047\" xlink:href=\"#DejaVuSans-49\"/>\r\n       <use x=\"127.246094\" xlink:href=\"#DejaVuSans-48\"/>\r\n      </g>\r\n     </g>\r\n    </g>\r\n   </g>\r\n   <g id=\"line2d_16\">\r\n    <defs>\r\n     <path d=\"M -3 3 \r\nL 3 -3 \r\nM -3 -3 \r\nL 3 3 \r\n\" id=\"m1e6c281c34\" style=\"stroke:#000000;\"/>\r\n    </defs>\r\n    <g clip-path=\"url(#p0b61cf5755)\">\r\n     <use style=\"stroke:#000000;\" x=\"48.505682\" xlink:href=\"#m1e6c281c34\" y=\"214.756364\"/>\r\n     <use style=\"stroke:#000000;\" x=\"48.975379\" xlink:href=\"#m1e6c281c34\" y=\"200.636883\"/>\r\n     <use style=\"stroke:#000000;\" x=\"49.069318\" xlink:href=\"#m1e6c281c34\" y=\"126.50961\"/>\r\n     <use style=\"stroke:#000000;\" x=\"66.542045\" xlink:href=\"#m1e6c281c34\" y=\"144.158961\"/>\r\n     <use style=\"stroke:#000000;\" x=\"67.011742\" xlink:href=\"#m1e6c281c34\" y=\"175.927792\"/>\r\n     <use style=\"stroke:#000000;\" x=\"85.517803\" xlink:href=\"#m1e6c281c34\" y=\"172.397922\"/>\r\n     <use style=\"stroke:#000000;\" x=\"105.526894\" xlink:href=\"#m1e6c281c34\" y=\"17.083636\"/>\r\n     <use style=\"stroke:#000000;\" x=\"123.563258\" xlink:href=\"#m1e6c281c34\" y=\"20.613506\"/>\r\n     <use style=\"stroke:#000000;\" x=\"143.854167\" xlink:href=\"#m1e6c281c34\" y=\"20.613506\"/>\r\n     <use style=\"stroke:#000000;\" x=\"164.99053\" xlink:href=\"#m1e6c281c34\" y=\"24.143377\"/>\r\n     <use style=\"stroke:#000000;\" x=\"183.402652\" xlink:href=\"#m1e6c281c34\" y=\"27.673247\"/>\r\n     <use style=\"stroke:#000000;\" x=\"202.28447\" xlink:href=\"#m1e6c281c34\" y=\"31.203117\"/>\r\n     <use style=\"stroke:#000000;\" x=\"218.911742\" xlink:href=\"#m1e6c281c34\" y=\"34.732987\"/>\r\n     <use style=\"stroke:#000000;\" x=\"237.605682\" xlink:href=\"#m1e6c281c34\" y=\"38.262857\"/>\r\n     <use style=\"stroke:#000000;\" x=\"258.742045\" xlink:href=\"#m1e6c281c34\" y=\"38.262857\"/>\r\n     <use style=\"stroke:#000000;\" x=\"313.88447\" xlink:href=\"#m1e6c281c34\" y=\"41.792727\"/>\r\n     <use style=\"stroke:#000000;\" x=\"316.98447\" xlink:href=\"#m1e6c281c34\" y=\"45.322597\"/>\r\n     <use style=\"stroke:#000000;\" x=\"322.902652\" xlink:href=\"#m1e6c281c34\" y=\"48.852468\"/>\r\n     <use style=\"stroke:#000000;\" x=\"332.672348\" xlink:href=\"#m1e6c281c34\" y=\"52.382338\"/>\r\n     <use style=\"stroke:#000000;\" x=\"351.742045\" xlink:href=\"#m1e6c281c34\" y=\"52.382338\"/>\r\n     <use style=\"stroke:#000000;\" x=\"352.869318\" xlink:href=\"#m1e6c281c34\" y=\"48.852468\"/>\r\n    </g>\r\n   </g>\r\n   <g id=\"patch_3\">\r\n    <path d=\"M 33.2875 224.64 \r\nL 33.2875 7.2 \r\n\" style=\"fill:none;stroke:#000000;stroke-linecap:square;stroke-linejoin:miter;stroke-width:0.8;\"/>\r\n   </g>\r\n   <g id=\"patch_4\">\r\n    <path d=\"M 368.0875 224.64 \r\nL 368.0875 7.2 \r\n\" style=\"fill:none;stroke:#000000;stroke-linecap:square;stroke-linejoin:miter;stroke-width:0.8;\"/>\r\n   </g>\r\n   <g id=\"patch_5\">\r\n    <path d=\"M 33.2875 224.64 \r\nL 368.0875 224.64 \r\n\" style=\"fill:none;stroke:#000000;stroke-linecap:square;stroke-linejoin:miter;stroke-width:0.8;\"/>\r\n   </g>\r\n   <g id=\"patch_6\">\r\n    <path d=\"M 33.2875 7.2 \r\nL 368.0875 7.2 \r\n\" style=\"fill:none;stroke:#000000;stroke-linecap:square;stroke-linejoin:miter;stroke-width:0.8;\"/>\r\n   </g>\r\n  </g>\r\n </g>\r\n <defs>\r\n  <clipPath id=\"p0b61cf5755\">\r\n   <rect height=\"217.44\" width=\"334.8\" x=\"33.2875\" y=\"7.2\"/>\r\n  </clipPath>\r\n </defs>\r\n</svg>\r\n",
      "image/png": "[encoded data removed]"
     },
     "metadata": {
      "needs_background": "light"
     }
    }
   ],
   "source": [
    "plot_trades('test_1')"
   ]
  },
  {
   "cell_type": "markdown",
   "metadata": {
    "tags": []
   },
   "source": [
    "### Static Market Sessions"
   ]
  },
  {
   "cell_type": "markdown",
   "metadata": {},
   "source": [
    "Now let's try to put everything together. Let's try to configure the following markets:"
   ]
  },
  {
   "cell_type": "markdown",
   "metadata": {},
   "source": [
    "1) A market that runs for 3 minutes and is populated with 10 ZIP buyers and 10 ZIP sellers. The supply and demand curves should have steps with regular intervals, minimum value at 100, and maximum value at 200. All traders should be resupplied with a new order at the same time every 10 seconds. Plot the supply and demand curves along with your results."
   ]
  },
  {
   "cell_type": "code",
   "execution_count": null,
   "metadata": {},
   "outputs": [],
   "source": []
  },
  {
   "cell_type": "markdown",
   "metadata": {},
   "source": [
    "You can also use the provided \"n_runs_plot\" function that we defined earlier (at the top of this worksheet) to run the same experiment multiple times and plot its graph. Plot the graph of 10 runs of the previous experiment:"
   ]
  },
  {
   "cell_type": "code",
   "execution_count": 23,
   "metadata": {},
   "outputs": [
    {
     "output_type": "display_data",
     "data": {
      "text/plain": "<Figure size 432x288 with 1 Axes>",
      "image/svg+xml": "<?xml version=\"1.0\" encoding=\"utf-8\" standalone=\"no\"?>\r\n<!DOCTYPE svg PUBLIC \"-//W3C//DTD SVG 1.1//EN\"\r\n  \"http://www.w3.org/Graphics/SVG/1.1/DTD/svg11.dtd\">\r\n<!-- Created with matplotlib (https://matplotlib.org/) -->\r\n<svg height=\"248.518125pt\" version=\"1.1\" viewBox=\"0 0 375.2875 248.518125\" width=\"375.2875pt\" xmlns=\"http://www.w3.org/2000/svg\" xmlns:xlink=\"http://www.w3.org/1999/xlink\">\r\n <defs>\r\n  <style type=\"text/css\">\r\n*{stroke-linecap:butt;stroke-linejoin:round;}\r\n  </style>\r\n </defs>\r\n <g id=\"figure_1\">\r\n  <g id=\"patch_1\">\r\n   <path d=\"M 0 248.518125 \r\nL 375.2875 248.518125 \r\nL 375.2875 0 \r\nL 0 0 \r\nz\r\n\" style=\"fill:none;\"/>\r\n  </g>\r\n  <g id=\"axes_1\">\r\n   <g id=\"patch_2\">\r\n    <path d=\"M 33.2875 224.64 \r\nL 368.0875 224.64 \r\nL 368.0875 7.2 \r\nL 33.2875 7.2 \r\nz\r\n\" style=\"fill:#ffffff;\"/>\r\n   </g>\r\n   <g id=\"matplotlib.axis_1\">\r\n    <g id=\"xtick_1\">\r\n     <g id=\"line2d_1\">\r\n      <defs>\r\n       <path d=\"M 0 0 \r\nL 0 3.5 \r\n\" id=\"m23189d9901\" style=\"stroke:#000000;stroke-width:0.8;\"/>\r\n      </defs>\r\n      <g>\r\n       <use style=\"stroke:#000000;stroke-width:0.8;\" x=\"75.94906\" xlink:href=\"#m23189d9901\" y=\"224.64\"/>\r\n      </g>\r\n     </g>\r\n     <g id=\"text_1\">\r\n      <!-- 25 -->\r\n      <defs>\r\n       <path d=\"M 19.1875 8.296875 \r\nL 53.609375 8.296875 \r\nL 53.609375 0 \r\nL 7.328125 0 \r\nL 7.328125 8.296875 \r\nQ 12.9375 14.109375 22.625 23.890625 \r\nQ 32.328125 33.6875 34.8125 36.53125 \r\nQ 39.546875 41.84375 41.421875 45.53125 \r\nQ 43.3125 49.21875 43.3125 52.78125 \r\nQ 43.3125 58.59375 39.234375 62.25 \r\nQ 35.15625 65.921875 28.609375 65.921875 \r\nQ 23.96875 65.921875 18.8125 64.3125 \r\nQ 13.671875 62.703125 7.8125 59.421875 \r\nL 7.8125 69.390625 \r\nQ 13.765625 71.78125 18.9375 73 \r\nQ 24.125 74.21875 28.421875 74.21875 \r\nQ 39.75 74.21875 46.484375 68.546875 \r\nQ 53.21875 62.890625 53.21875 53.421875 \r\nQ 53.21875 48.921875 51.53125 44.890625 \r\nQ 49.859375 40.875 45.40625 35.40625 \r\nQ 44.1875 33.984375 37.640625 27.21875 \r\nQ 31.109375 20.453125 19.1875 8.296875 \r\nz\r\n\" id=\"DejaVuSans-50\"/>\r\n       <path d=\"M 10.796875 72.90625 \r\nL 49.515625 72.90625 \r\nL 49.515625 64.59375 \r\nL 19.828125 64.59375 \r\nL 19.828125 46.734375 \r\nQ 21.96875 47.46875 24.109375 47.828125 \r\nQ 26.265625 48.1875 28.421875 48.1875 \r\nQ 40.625 48.1875 47.75 41.5 \r\nQ 54.890625 34.8125 54.890625 23.390625 \r\nQ 54.890625 11.625 47.5625 5.09375 \r\nQ 40.234375 -1.421875 26.90625 -1.421875 \r\nQ 22.3125 -1.421875 17.546875 -0.640625 \r\nQ 12.796875 0.140625 7.71875 1.703125 \r\nL 7.71875 11.625 \r\nQ 12.109375 9.234375 16.796875 8.0625 \r\nQ 21.484375 6.890625 26.703125 6.890625 \r\nQ 35.15625 6.890625 40.078125 11.328125 \r\nQ 45.015625 15.765625 45.015625 23.390625 \r\nQ 45.015625 31 40.078125 35.4375 \r\nQ 35.15625 39.890625 26.703125 39.890625 \r\nQ 22.75 39.890625 18.8125 39.015625 \r\nQ 14.890625 38.140625 10.796875 36.28125 \r\nz\r\n\" id=\"DejaVuSans-53\"/>\r\n      </defs>\r\n      <g transform=\"translate(69.58656 239.238437)scale(0.1 -0.1)\">\r\n       <use xlink:href=\"#DejaVuSans-50\"/>\r\n       <use x=\"63.623047\" xlink:href=\"#DejaVuSans-53\"/>\r\n      </g>\r\n     </g>\r\n    </g>\r\n    <g id=\"xtick_2\">\r\n     <g id=\"line2d_2\">\r\n      <g>\r\n       <use style=\"stroke:#000000;stroke-width:0.8;\" x=\"121.994996\" xlink:href=\"#m23189d9901\" y=\"224.64\"/>\r\n      </g>\r\n     </g>\r\n     <g id=\"text_2\">\r\n      <!-- 50 -->\r\n      <defs>\r\n       <path d=\"M 31.78125 66.40625 \r\nQ 24.171875 66.40625 20.328125 58.90625 \r\nQ 16.5 51.421875 16.5 36.375 \r\nQ 16.5 21.390625 20.328125 13.890625 \r\nQ 24.171875 6.390625 31.78125 6.390625 \r\nQ 39.453125 6.390625 43.28125 13.890625 \r\nQ 47.125 21.390625 47.125 36.375 \r\nQ 47.125 51.421875 43.28125 58.90625 \r\nQ 39.453125 66.40625 31.78125 66.40625 \r\nz\r\nM 31.78125 74.21875 \r\nQ 44.046875 74.21875 50.515625 64.515625 \r\nQ 56.984375 54.828125 56.984375 36.375 \r\nQ 56.984375 17.96875 50.515625 8.265625 \r\nQ 44.046875 -1.421875 31.78125 -1.421875 \r\nQ 19.53125 -1.421875 13.0625 8.265625 \r\nQ 6.59375 17.96875 6.59375 36.375 \r\nQ 6.59375 54.828125 13.0625 64.515625 \r\nQ 19.53125 74.21875 31.78125 74.21875 \r\nz\r\n\" id=\"DejaVuSans-48\"/>\r\n      </defs>\r\n      <g transform=\"translate(115.632496 239.238437)scale(0.1 -0.1)\">\r\n       <use xlink:href=\"#DejaVuSans-53\"/>\r\n       <use x=\"63.623047\" xlink:href=\"#DejaVuSans-48\"/>\r\n      </g>\r\n     </g>\r\n    </g>\r\n    <g id=\"xtick_3\">\r\n     <g id=\"line2d_3\">\r\n      <g>\r\n       <use style=\"stroke:#000000;stroke-width:0.8;\" x=\"168.040931\" xlink:href=\"#m23189d9901\" y=\"224.64\"/>\r\n      </g>\r\n     </g>\r\n     <g id=\"text_3\">\r\n      <!-- 75 -->\r\n      <defs>\r\n       <path d=\"M 8.203125 72.90625 \r\nL 55.078125 72.90625 \r\nL 55.078125 68.703125 \r\nL 28.609375 0 \r\nL 18.3125 0 \r\nL 43.21875 64.59375 \r\nL 8.203125 64.59375 \r\nz\r\n\" id=\"DejaVuSans-55\"/>\r\n      </defs>\r\n      <g transform=\"translate(161.678431 239.238437)scale(0.1 -0.1)\">\r\n       <use xlink:href=\"#DejaVuSans-55\"/>\r\n       <use x=\"63.623047\" xlink:href=\"#DejaVuSans-53\"/>\r\n      </g>\r\n     </g>\r\n    </g>\r\n    <g id=\"xtick_4\">\r\n     <g id=\"line2d_4\">\r\n      <g>\r\n       <use style=\"stroke:#000000;stroke-width:0.8;\" x=\"214.086867\" xlink:href=\"#m23189d9901\" y=\"224.64\"/>\r\n      </g>\r\n     </g>\r\n     <g id=\"text_4\">\r\n      <!-- 100 -->\r\n      <defs>\r\n       <path d=\"M 12.40625 8.296875 \r\nL 28.515625 8.296875 \r\nL 28.515625 63.921875 \r\nL 10.984375 60.40625 \r\nL 10.984375 69.390625 \r\nL 28.421875 72.90625 \r\nL 38.28125 72.90625 \r\nL 38.28125 8.296875 \r\nL 54.390625 8.296875 \r\nL 54.390625 0 \r\nL 12.40625 0 \r\nz\r\n\" id=\"DejaVuSans-49\"/>\r\n      </defs>\r\n      <g transform=\"translate(204.543117 239.238437)scale(0.1 -0.1)\">\r\n       <use xlink:href=\"#DejaVuSans-49\"/>\r\n       <use x=\"63.623047\" xlink:href=\"#DejaVuSans-48\"/>\r\n       <use x=\"127.246094\" xlink:href=\"#DejaVuSans-48\"/>\r\n      </g>\r\n     </g>\r\n    </g>\r\n    <g id=\"xtick_5\">\r\n     <g id=\"line2d_5\">\r\n      <g>\r\n       <use style=\"stroke:#000000;stroke-width:0.8;\" x=\"260.132803\" xlink:href=\"#m23189d9901\" y=\"224.64\"/>\r\n      </g>\r\n     </g>\r\n     <g id=\"text_5\">\r\n      <!-- 125 -->\r\n      <g transform=\"translate(250.589053 239.238437)scale(0.1 -0.1)\">\r\n       <use xlink:href=\"#DejaVuSans-49\"/>\r\n       <use x=\"63.623047\" xlink:href=\"#DejaVuSans-50\"/>\r\n       <use x=\"127.246094\" xlink:href=\"#DejaVuSans-53\"/>\r\n      </g>\r\n     </g>\r\n    </g>\r\n    <g id=\"xtick_6\">\r\n     <g id=\"line2d_6\">\r\n      <g>\r\n       <use style=\"stroke:#000000;stroke-width:0.8;\" x=\"306.178739\" xlink:href=\"#m23189d9901\" y=\"224.64\"/>\r\n      </g>\r\n     </g>\r\n     <g id=\"text_6\">\r\n      <!-- 150 -->\r\n      <g transform=\"translate(296.634989 239.238437)scale(0.1 -0.1)\">\r\n       <use xlink:href=\"#DejaVuSans-49\"/>\r\n       <use x=\"63.623047\" xlink:href=\"#DejaVuSans-53\"/>\r\n       <use x=\"127.246094\" xlink:href=\"#DejaVuSans-48\"/>\r\n      </g>\r\n     </g>\r\n    </g>\r\n    <g id=\"xtick_7\">\r\n     <g id=\"line2d_7\">\r\n      <g>\r\n       <use style=\"stroke:#000000;stroke-width:0.8;\" x=\"352.224675\" xlink:href=\"#m23189d9901\" y=\"224.64\"/>\r\n      </g>\r\n     </g>\r\n     <g id=\"text_7\">\r\n      <!-- 175 -->\r\n      <g transform=\"translate(342.680925 239.238437)scale(0.1 -0.1)\">\r\n       <use xlink:href=\"#DejaVuSans-49\"/>\r\n       <use x=\"63.623047\" xlink:href=\"#DejaVuSans-55\"/>\r\n       <use x=\"127.246094\" xlink:href=\"#DejaVuSans-53\"/>\r\n      </g>\r\n     </g>\r\n    </g>\r\n   </g>\r\n   <g id=\"matplotlib.axis_2\">\r\n    <g id=\"ytick_1\">\r\n     <g id=\"line2d_8\">\r\n      <defs>\r\n       <path d=\"M 0 0 \r\nL -3.5 0 \r\n\" id=\"ma5877c3616\" style=\"stroke:#000000;stroke-width:0.8;\"/>\r\n      </defs>\r\n      <g>\r\n       <use style=\"stroke:#000000;stroke-width:0.8;\" x=\"33.2875\" xlink:href=\"#ma5877c3616\" y=\"198.666723\"/>\r\n      </g>\r\n     </g>\r\n     <g id=\"text_8\">\r\n      <!-- 60 -->\r\n      <defs>\r\n       <path d=\"M 33.015625 40.375 \r\nQ 26.375 40.375 22.484375 35.828125 \r\nQ 18.609375 31.296875 18.609375 23.390625 \r\nQ 18.609375 15.53125 22.484375 10.953125 \r\nQ 26.375 6.390625 33.015625 6.390625 \r\nQ 39.65625 6.390625 43.53125 10.953125 \r\nQ 47.40625 15.53125 47.40625 23.390625 \r\nQ 47.40625 31.296875 43.53125 35.828125 \r\nQ 39.65625 40.375 33.015625 40.375 \r\nz\r\nM 52.59375 71.296875 \r\nL 52.59375 62.3125 \r\nQ 48.875 64.0625 45.09375 64.984375 \r\nQ 41.3125 65.921875 37.59375 65.921875 \r\nQ 27.828125 65.921875 22.671875 59.328125 \r\nQ 17.53125 52.734375 16.796875 39.40625 \r\nQ 19.671875 43.65625 24.015625 45.921875 \r\nQ 28.375 48.1875 33.59375 48.1875 \r\nQ 44.578125 48.1875 50.953125 41.515625 \r\nQ 57.328125 34.859375 57.328125 23.390625 \r\nQ 57.328125 12.15625 50.6875 5.359375 \r\nQ 44.046875 -1.421875 33.015625 -1.421875 \r\nQ 20.359375 -1.421875 13.671875 8.265625 \r\nQ 6.984375 17.96875 6.984375 36.375 \r\nQ 6.984375 53.65625 15.1875 63.9375 \r\nQ 23.390625 74.21875 37.203125 74.21875 \r\nQ 40.921875 74.21875 44.703125 73.484375 \r\nQ 48.484375 72.75 52.59375 71.296875 \r\nz\r\n\" id=\"DejaVuSans-54\"/>\r\n      </defs>\r\n      <g transform=\"translate(13.5625 202.465942)scale(0.1 -0.1)\">\r\n       <use xlink:href=\"#DejaVuSans-54\"/>\r\n       <use x=\"63.623047\" xlink:href=\"#DejaVuSans-48\"/>\r\n      </g>\r\n     </g>\r\n    </g>\r\n    <g id=\"ytick_2\">\r\n     <g id=\"line2d_9\">\r\n      <g>\r\n       <use style=\"stroke:#000000;stroke-width:0.8;\" x=\"33.2875\" xlink:href=\"#ma5877c3616\" y=\"152.696321\"/>\r\n      </g>\r\n     </g>\r\n     <g id=\"text_9\">\r\n      <!-- 80 -->\r\n      <defs>\r\n       <path d=\"M 31.78125 34.625 \r\nQ 24.75 34.625 20.71875 30.859375 \r\nQ 16.703125 27.09375 16.703125 20.515625 \r\nQ 16.703125 13.921875 20.71875 10.15625 \r\nQ 24.75 6.390625 31.78125 6.390625 \r\nQ 38.8125 6.390625 42.859375 10.171875 \r\nQ 46.921875 13.96875 46.921875 20.515625 \r\nQ 46.921875 27.09375 42.890625 30.859375 \r\nQ 38.875 34.625 31.78125 34.625 \r\nz\r\nM 21.921875 38.8125 \r\nQ 15.578125 40.375 12.03125 44.71875 \r\nQ 8.5 49.078125 8.5 55.328125 \r\nQ 8.5 64.0625 14.71875 69.140625 \r\nQ 20.953125 74.21875 31.78125 74.21875 \r\nQ 42.671875 74.21875 48.875 69.140625 \r\nQ 55.078125 64.0625 55.078125 55.328125 \r\nQ 55.078125 49.078125 51.53125 44.71875 \r\nQ 48 40.375 41.703125 38.8125 \r\nQ 48.828125 37.15625 52.796875 32.3125 \r\nQ 56.78125 27.484375 56.78125 20.515625 \r\nQ 56.78125 9.90625 50.3125 4.234375 \r\nQ 43.84375 -1.421875 31.78125 -1.421875 \r\nQ 19.734375 -1.421875 13.25 4.234375 \r\nQ 6.78125 9.90625 6.78125 20.515625 \r\nQ 6.78125 27.484375 10.78125 32.3125 \r\nQ 14.796875 37.15625 21.921875 38.8125 \r\nz\r\nM 18.3125 54.390625 \r\nQ 18.3125 48.734375 21.84375 45.5625 \r\nQ 25.390625 42.390625 31.78125 42.390625 \r\nQ 38.140625 42.390625 41.71875 45.5625 \r\nQ 45.3125 48.734375 45.3125 54.390625 \r\nQ 45.3125 60.0625 41.71875 63.234375 \r\nQ 38.140625 66.40625 31.78125 66.40625 \r\nQ 25.390625 66.40625 21.84375 63.234375 \r\nQ 18.3125 60.0625 18.3125 54.390625 \r\nz\r\n\" id=\"DejaVuSans-56\"/>\r\n      </defs>\r\n      <g transform=\"translate(13.5625 156.49554)scale(0.1 -0.1)\">\r\n       <use xlink:href=\"#DejaVuSans-56\"/>\r\n       <use x=\"63.623047\" xlink:href=\"#DejaVuSans-48\"/>\r\n      </g>\r\n     </g>\r\n    </g>\r\n    <g id=\"ytick_3\">\r\n     <g id=\"line2d_10\">\r\n      <g>\r\n       <use style=\"stroke:#000000;stroke-width:0.8;\" x=\"33.2875\" xlink:href=\"#ma5877c3616\" y=\"106.72592\"/>\r\n      </g>\r\n     </g>\r\n     <g id=\"text_10\">\r\n      <!-- 100 -->\r\n      <g transform=\"translate(7.2 110.525138)scale(0.1 -0.1)\">\r\n       <use xlink:href=\"#DejaVuSans-49\"/>\r\n       <use x=\"63.623047\" xlink:href=\"#DejaVuSans-48\"/>\r\n       <use x=\"127.246094\" xlink:href=\"#DejaVuSans-48\"/>\r\n      </g>\r\n     </g>\r\n    </g>\r\n    <g id=\"ytick_4\">\r\n     <g id=\"line2d_11\">\r\n      <g>\r\n       <use style=\"stroke:#000000;stroke-width:0.8;\" x=\"33.2875\" xlink:href=\"#ma5877c3616\" y=\"60.755518\"/>\r\n      </g>\r\n     </g>\r\n     <g id=\"text_11\">\r\n      <!-- 120 -->\r\n      <g transform=\"translate(7.2 64.554737)scale(0.1 -0.1)\">\r\n       <use xlink:href=\"#DejaVuSans-49\"/>\r\n       <use x=\"63.623047\" xlink:href=\"#DejaVuSans-50\"/>\r\n       <use x=\"127.246094\" xlink:href=\"#DejaVuSans-48\"/>\r\n      </g>\r\n     </g>\r\n    </g>\r\n    <g id=\"ytick_5\">\r\n     <g id=\"line2d_12\">\r\n      <g>\r\n       <use style=\"stroke:#000000;stroke-width:0.8;\" x=\"33.2875\" xlink:href=\"#ma5877c3616\" y=\"14.785116\"/>\r\n      </g>\r\n     </g>\r\n     <g id=\"text_12\">\r\n      <!-- 140 -->\r\n      <defs>\r\n       <path d=\"M 37.796875 64.3125 \r\nL 12.890625 25.390625 \r\nL 37.796875 25.390625 \r\nz\r\nM 35.203125 72.90625 \r\nL 47.609375 72.90625 \r\nL 47.609375 25.390625 \r\nL 58.015625 25.390625 \r\nL 58.015625 17.1875 \r\nL 47.609375 17.1875 \r\nL 47.609375 0 \r\nL 37.796875 0 \r\nL 37.796875 17.1875 \r\nL 4.890625 17.1875 \r\nL 4.890625 26.703125 \r\nz\r\n\" id=\"DejaVuSans-52\"/>\r\n      </defs>\r\n      <g transform=\"translate(7.2 18.584335)scale(0.1 -0.1)\">\r\n       <use xlink:href=\"#DejaVuSans-49\"/>\r\n       <use x=\"63.623047\" xlink:href=\"#DejaVuSans-52\"/>\r\n       <use x=\"127.246094\" xlink:href=\"#DejaVuSans-48\"/>\r\n      </g>\r\n     </g>\r\n    </g>\r\n   </g>\r\n   <g id=\"line2d_13\">\r\n    <defs>\r\n     <path d=\"M -3 3 \r\nL 3 -3 \r\nM -3 -3 \r\nL 3 3 \r\n\" id=\"m6a6831713c\" style=\"stroke:#000000;\"/>\r\n    </defs>\r\n    <g clip-path=\"url(#p2d89780cac)\">\r\n     <use style=\"stroke:#000000;\" x=\"48.597774\" xlink:href=\"#m6a6831713c\" y=\"157.293362\"/>\r\n     <use style=\"stroke:#000000;\" x=\"49.979152\" xlink:href=\"#m6a6831713c\" y=\"136.606681\"/>\r\n     <use style=\"stroke:#000000;\" x=\"50.071244\" xlink:href=\"#m6a6831713c\" y=\"148.099281\"/>\r\n     <use style=\"stroke:#000000;\" x=\"52.189357\" xlink:href=\"#m6a6831713c\" y=\"109.02444\"/>\r\n     <use style=\"stroke:#000000;\" x=\"67.200332\" xlink:href=\"#m6a6831713c\" y=\"187.174123\"/>\r\n     <use style=\"stroke:#000000;\" x=\"88.381462\" xlink:href=\"#m6a6831713c\" y=\"35.471797\"/>\r\n     <use style=\"stroke:#000000;\" x=\"104.037081\" xlink:href=\"#m6a6831713c\" y=\"56.158478\"/>\r\n     <use style=\"stroke:#000000;\" x=\"105.602642\" xlink:href=\"#m6a6831713c\" y=\"63.054038\"/>\r\n     <use style=\"stroke:#000000;\" x=\"123.744741\" xlink:href=\"#m6a6831713c\" y=\"58.456998\"/>\r\n     <use style=\"stroke:#000000;\" x=\"126.691681\" xlink:href=\"#m6a6831713c\" y=\"60.755518\"/>\r\n     <use style=\"stroke:#000000;\" x=\"126.783773\" xlink:href=\"#m6a6831713c\" y=\"63.054038\"/>\r\n     <use style=\"stroke:#000000;\" x=\"141.242197\" xlink:href=\"#m6a6831713c\" y=\"65.352558\"/>\r\n     <use style=\"stroke:#000000;\" x=\"142.715667\" xlink:href=\"#m6a6831713c\" y=\"97.531839\"/>\r\n     <use style=\"stroke:#000000;\" x=\"150.083016\" xlink:href=\"#m6a6831713c\" y=\"83.740719\"/>\r\n     <use style=\"stroke:#000000;\" x=\"159.936847\" xlink:href=\"#m6a6831713c\" y=\"97.531839\"/>\r\n     <use style=\"stroke:#000000;\" x=\"163.712613\" xlink:href=\"#m6a6831713c\" y=\"86.039239\"/>\r\n     <use style=\"stroke:#000000;\" x=\"178.907772\" xlink:href=\"#m6a6831713c\" y=\"88.337759\"/>\r\n     <use style=\"stroke:#000000;\" x=\"178.999864\" xlink:href=\"#m6a6831713c\" y=\"92.934799\"/>\r\n     <use style=\"stroke:#000000;\" x=\"180.28915\" xlink:href=\"#m6a6831713c\" y=\"88.337759\"/>\r\n     <use style=\"stroke:#000000;\" x=\"199.44426\" xlink:href=\"#m6a6831713c\" y=\"88.337759\"/>\r\n     <use style=\"stroke:#000000;\" x=\"199.904719\" xlink:href=\"#m6a6831713c\" y=\"92.934799\"/>\r\n     <use style=\"stroke:#000000;\" x=\"205.430231\" xlink:href=\"#m6a6831713c\" y=\"92.934799\"/>\r\n     <use style=\"stroke:#000000;\" x=\"208.285079\" xlink:href=\"#m6a6831713c\" y=\"95.233319\"/>\r\n     <use style=\"stroke:#000000;\" x=\"216.020797\" xlink:href=\"#m6a6831713c\" y=\"95.233319\"/>\r\n     <use style=\"stroke:#000000;\" x=\"225.966719\" xlink:href=\"#m6a6831713c\" y=\"95.233319\"/>\r\n     <use style=\"stroke:#000000;\" x=\"234.89963\" xlink:href=\"#m6a6831713c\" y=\"53.859958\"/>\r\n     <use style=\"stroke:#000000;\" x=\"235.820549\" xlink:href=\"#m6a6831713c\" y=\"88.337759\"/>\r\n     <use style=\"stroke:#000000;\" x=\"236.649376\" xlink:href=\"#m6a6831713c\" y=\"90.636279\"/>\r\n     <use style=\"stroke:#000000;\" x=\"240.977694\" xlink:href=\"#m6a6831713c\" y=\"97.531839\"/>\r\n     <use style=\"stroke:#000000;\" x=\"253.225913\" xlink:href=\"#m6a6831713c\" y=\"95.233319\"/>\r\n     <use style=\"stroke:#000000;\" x=\"253.778464\" xlink:href=\"#m6a6831713c\" y=\"95.233319\"/>\r\n     <use style=\"stroke:#000000;\" x=\"254.883567\" xlink:href=\"#m6a6831713c\" y=\"97.531839\"/>\r\n     <use style=\"stroke:#000000;\" x=\"255.52821\" xlink:href=\"#m6a6831713c\" y=\"99.830359\"/>\r\n     <use style=\"stroke:#000000;\" x=\"274.867503\" xlink:href=\"#m6a6831713c\" y=\"97.531839\"/>\r\n     <use style=\"stroke:#000000;\" x=\"291.628223\" xlink:href=\"#m6a6831713c\" y=\"97.531839\"/>\r\n     <use style=\"stroke:#000000;\" x=\"293.285877\" xlink:href=\"#m6a6831713c\" y=\"65.352558\"/>\r\n     <use style=\"stroke:#000000;\" x=\"297.430011\" xlink:href=\"#m6a6831713c\" y=\"49.262918\"/>\r\n     <use style=\"stroke:#000000;\" x=\"309.309863\" xlink:href=\"#m6a6831713c\" y=\"83.740719\"/>\r\n     <use style=\"stroke:#000000;\" x=\"331.227728\" xlink:href=\"#m6a6831713c\" y=\"65.352558\"/>\r\n     <use style=\"stroke:#000000;\" x=\"348.909368\" xlink:href=\"#m6a6831713c\" y=\"21.680677\"/>\r\n     <use style=\"stroke:#000000;\" x=\"48.597774\" xlink:href=\"#m6a6831713c\" y=\"115.92\"/>\r\n     <use style=\"stroke:#000000;\" x=\"49.242417\" xlink:href=\"#m6a6831713c\" y=\"33.173277\"/>\r\n     <use style=\"stroke:#000000;\" x=\"49.88706\" xlink:href=\"#m6a6831713c\" y=\"90.636279\"/>\r\n     <use style=\"stroke:#000000;\" x=\"50.715887\" xlink:href=\"#m6a6831713c\" y=\"99.830359\"/>\r\n     <use style=\"stroke:#000000;\" x=\"53.110275\" xlink:href=\"#m6a6831713c\" y=\"125.11408\"/>\r\n     <use style=\"stroke:#000000;\" x=\"67.016148\" xlink:href=\"#m6a6831713c\" y=\"72.248118\"/>\r\n     <use style=\"stroke:#000000;\" x=\"68.121251\" xlink:href=\"#m6a6831713c\" y=\"141.203721\"/>\r\n     <use style=\"stroke:#000000;\" x=\"70.607731\" xlink:href=\"#m6a6831713c\" y=\"129.711121\"/>\r\n     <use style=\"stroke:#000000;\" x=\"85.526614\" xlink:href=\"#m6a6831713c\" y=\"99.830359\"/>\r\n     <use style=\"stroke:#000000;\" x=\"105.418459\" xlink:href=\"#m6a6831713c\" y=\"154.994841\"/>\r\n     <use style=\"stroke:#000000;\" x=\"123.100098\" xlink:href=\"#m6a6831713c\" y=\"154.994841\"/>\r\n     <use style=\"stroke:#000000;\" x=\"124.2052\" xlink:href=\"#m6a6831713c\" y=\"150.397801\"/>\r\n     <use style=\"stroke:#000000;\" x=\"125.402395\" xlink:href=\"#m6a6831713c\" y=\"148.099281\"/>\r\n     <use style=\"stroke:#000000;\" x=\"141.794748\" xlink:href=\"#m6a6831713c\" y=\"148.099281\"/>\r\n     <use style=\"stroke:#000000;\" x=\"142.991942\" xlink:href=\"#m6a6831713c\" y=\"150.397801\"/>\r\n     <use style=\"stroke:#000000;\" x=\"144.004953\" xlink:href=\"#m6a6831713c\" y=\"148.099281\"/>\r\n     <use style=\"stroke:#000000;\" x=\"159.936847\" xlink:href=\"#m6a6831713c\" y=\"150.397801\"/>\r\n     <use style=\"stroke:#000000;\" x=\"160.765674\" xlink:href=\"#m6a6831713c\" y=\"148.099281\"/>\r\n     <use style=\"stroke:#000000;\" x=\"160.949857\" xlink:href=\"#m6a6831713c\" y=\"145.800761\"/>\r\n     <use style=\"stroke:#000000;\" x=\"164.725624\" xlink:href=\"#m6a6831713c\" y=\"141.203721\"/>\r\n     <use style=\"stroke:#000000;\" x=\"178.631497\" xlink:href=\"#m6a6831713c\" y=\"145.800761\"/>\r\n     <use style=\"stroke:#000000;\" x=\"182.499355\" xlink:href=\"#m6a6831713c\" y=\"76.845159\"/>\r\n     <use style=\"stroke:#000000;\" x=\"192.721553\" xlink:href=\"#m6a6831713c\" y=\"17.083636\"/>\r\n     <use style=\"stroke:#000000;\" x=\"197.602422\" xlink:href=\"#m6a6831713c\" y=\"109.02444\"/>\r\n     <use style=\"stroke:#000000;\" x=\"197.97079\" xlink:href=\"#m6a6831713c\" y=\"106.72592\"/>\r\n     <use style=\"stroke:#000000;\" x=\"215.928705\" xlink:href=\"#m6a6831713c\" y=\"106.72592\"/>\r\n     <use style=\"stroke:#000000;\" x=\"219.336104\" xlink:href=\"#m6a6831713c\" y=\"67.651078\"/>\r\n     <use style=\"stroke:#000000;\" x=\"234.623355\" xlink:href=\"#m6a6831713c\" y=\"74.546638\"/>\r\n     <use style=\"stroke:#000000;\" x=\"235.083814\" xlink:href=\"#m6a6831713c\" y=\"37.770317\"/>\r\n     <use style=\"stroke:#000000;\" x=\"235.36009\" xlink:href=\"#m6a6831713c\" y=\"69.949598\"/>\r\n     <use style=\"stroke:#000000;\" x=\"242.174888\" xlink:href=\"#m6a6831713c\" y=\"53.859958\"/>\r\n     <use style=\"stroke:#000000;\" x=\"252.857545\" xlink:href=\"#m6a6831713c\" y=\"53.859958\"/>\r\n     <use style=\"stroke:#000000;\" x=\"254.791475\" xlink:href=\"#m6a6831713c\" y=\"53.859958\"/>\r\n     <use style=\"stroke:#000000;\" x=\"257.554231\" xlink:href=\"#m6a6831713c\" y=\"56.158478\"/>\r\n     <use style=\"stroke:#000000;\" x=\"271.828471\" xlink:href=\"#m6a6831713c\" y=\"76.845159\"/>\r\n     <use style=\"stroke:#000000;\" x=\"272.473114\" xlink:href=\"#m6a6831713c\" y=\"83.740719\"/>\r\n     <use style=\"stroke:#000000;\" x=\"273.7624\" xlink:href=\"#m6a6831713c\" y=\"86.039239\"/>\r\n     <use style=\"stroke:#000000;\" x=\"290.338937\" xlink:href=\"#m6a6831713c\" y=\"88.337759\"/>\r\n     <use style=\"stroke:#000000;\" x=\"290.707305\" xlink:href=\"#m6a6831713c\" y=\"88.337759\"/>\r\n     <use style=\"stroke:#000000;\" x=\"291.996591\" xlink:href=\"#m6a6831713c\" y=\"88.337759\"/>\r\n     <use style=\"stroke:#000000;\" x=\"308.849403\" xlink:href=\"#m6a6831713c\" y=\"88.337759\"/>\r\n     <use style=\"stroke:#000000;\" x=\"309.954506\" xlink:href=\"#m6a6831713c\" y=\"88.337759\"/>\r\n     <use style=\"stroke:#000000;\" x=\"326.991502\" xlink:href=\"#m6a6831713c\" y=\"88.337759\"/>\r\n     <use style=\"stroke:#000000;\" x=\"350.567021\" xlink:href=\"#m6a6831713c\" y=\"90.636279\"/>\r\n     <use style=\"stroke:#000000;\" x=\"48.874049\" xlink:href=\"#m6a6831713c\" y=\"182.577082\"/>\r\n     <use style=\"stroke:#000000;\" x=\"48.966141\" xlink:href=\"#m6a6831713c\" y=\"95.233319\"/>\r\n     <use style=\"stroke:#000000;\" x=\"49.058233\" xlink:href=\"#m6a6831713c\" y=\"53.859958\"/>\r\n     <use style=\"stroke:#000000;\" x=\"49.979152\" xlink:href=\"#m6a6831713c\" y=\"109.02444\"/>\r\n     <use style=\"stroke:#000000;\" x=\"50.90007\" xlink:href=\"#m6a6831713c\" y=\"134.308161\"/>\r\n     <use style=\"stroke:#000000;\" x=\"67.844975\" xlink:href=\"#m6a6831713c\" y=\"102.128879\"/>\r\n     <use style=\"stroke:#000000;\" x=\"69.410537\" xlink:href=\"#m6a6831713c\" y=\"83.740719\"/>\r\n     <use style=\"stroke:#000000;\" x=\"72.633752\" xlink:href=\"#m6a6831713c\" y=\"104.4274\"/>\r\n     <use style=\"stroke:#000000;\" x=\"85.80289\" xlink:href=\"#m6a6831713c\" y=\"159.591882\"/>\r\n     <use style=\"stroke:#000000;\" x=\"86.171257\" xlink:href=\"#m6a6831713c\" y=\"138.905201\"/>\r\n     <use style=\"stroke:#000000;\" x=\"104.589632\" xlink:href=\"#m6a6831713c\" y=\"138.905201\"/>\r\n     <use style=\"stroke:#000000;\" x=\"106.247285\" xlink:href=\"#m6a6831713c\" y=\"136.606681\"/>\r\n     <use style=\"stroke:#000000;\" x=\"125.218211\" xlink:href=\"#m6a6831713c\" y=\"99.830359\"/>\r\n     <use style=\"stroke:#000000;\" x=\"128.993978\" xlink:href=\"#m6a6831713c\" y=\"97.531839\"/>\r\n     <use style=\"stroke:#000000;\" x=\"142.163115\" xlink:href=\"#m6a6831713c\" y=\"102.128879\"/>\r\n     <use style=\"stroke:#000000;\" x=\"142.715667\" xlink:href=\"#m6a6831713c\" y=\"104.4274\"/>\r\n     <use style=\"stroke:#000000;\" x=\"160.397306\" xlink:href=\"#m6a6831713c\" y=\"106.72592\"/>\r\n     <use style=\"stroke:#000000;\" x=\"166.567461\" xlink:href=\"#m6a6831713c\" y=\"109.02444\"/>\r\n     <use style=\"stroke:#000000;\" x=\"180.381242\" xlink:href=\"#m6a6831713c\" y=\"106.72592\"/>\r\n     <use style=\"stroke:#000000;\" x=\"188.116959\" xlink:href=\"#m6a6831713c\" y=\"109.02444\"/>\r\n     <use style=\"stroke:#000000;\" x=\"197.234055\" xlink:href=\"#m6a6831713c\" y=\"125.11408\"/>\r\n     <use style=\"stroke:#000000;\" x=\"216.757532\" xlink:href=\"#m6a6831713c\" y=\"113.62148\"/>\r\n     <use style=\"stroke:#000000;\" x=\"235.267998\" xlink:href=\"#m6a6831713c\" y=\"111.32296\"/>\r\n     <use style=\"stroke:#000000;\" x=\"253.133821\" xlink:href=\"#m6a6831713c\" y=\"28.576237\"/>\r\n     <use style=\"stroke:#000000;\" x=\"272.473114\" xlink:href=\"#m6a6831713c\" y=\"63.054038\"/>\r\n     <use style=\"stroke:#000000;\" x=\"272.933573\" xlink:href=\"#m6a6831713c\" y=\"37.770317\"/>\r\n     <use style=\"stroke:#000000;\" x=\"274.683319\" xlink:href=\"#m6a6831713c\" y=\"56.158478\"/>\r\n     <use style=\"stroke:#000000;\" x=\"289.878478\" xlink:href=\"#m6a6831713c\" y=\"58.456998\"/>\r\n     <use style=\"stroke:#000000;\" x=\"291.720315\" xlink:href=\"#m6a6831713c\" y=\"111.32296\"/>\r\n     <use style=\"stroke:#000000;\" x=\"293.470061\" xlink:href=\"#m6a6831713c\" y=\"102.128879\"/>\r\n     <use style=\"stroke:#000000;\" x=\"308.66522\" xlink:href=\"#m6a6831713c\" y=\"106.72592\"/>\r\n     <use style=\"stroke:#000000;\" x=\"309.67823\" xlink:href=\"#m6a6831713c\" y=\"104.4274\"/>\r\n     <use style=\"stroke:#000000;\" x=\"311.61216\" xlink:href=\"#m6a6831713c\" y=\"104.4274\"/>\r\n     <use style=\"stroke:#000000;\" x=\"328.004513\" xlink:href=\"#m6a6831713c\" y=\"102.128879\"/>\r\n     <use style=\"stroke:#000000;\" x=\"352.869318\" xlink:href=\"#m6a6831713c\" y=\"69.949598\"/>\r\n     <use style=\"stroke:#000000;\" x=\"48.505682\" xlink:href=\"#m6a6831713c\" y=\"86.039239\"/>\r\n     <use style=\"stroke:#000000;\" x=\"49.334509\" xlink:href=\"#m6a6831713c\" y=\"88.337759\"/>\r\n     <use style=\"stroke:#000000;\" x=\"51.544714\" xlink:href=\"#m6a6831713c\" y=\"113.62148\"/>\r\n     <use style=\"stroke:#000000;\" x=\"67.752883\" xlink:href=\"#m6a6831713c\" y=\"92.934799\"/>\r\n     <use style=\"stroke:#000000;\" x=\"69.226353\" xlink:href=\"#m6a6831713c\" y=\"90.636279\"/>\r\n     <use style=\"stroke:#000000;\" x=\"69.318445\" xlink:href=\"#m6a6831713c\" y=\"90.636279\"/>\r\n     <use style=\"stroke:#000000;\" x=\"71.989109\" xlink:href=\"#m6a6831713c\" y=\"99.830359\"/>\r\n     <use style=\"stroke:#000000;\" x=\"87.828911\" xlink:href=\"#m6a6831713c\" y=\"92.934799\"/>\r\n     <use style=\"stroke:#000000;\" x=\"105.51055\" xlink:href=\"#m6a6831713c\" y=\"125.11408\"/>\r\n     <use style=\"stroke:#000000;\" x=\"122.823822\" xlink:href=\"#m6a6831713c\" y=\"125.11408\"/>\r\n     <use style=\"stroke:#000000;\" x=\"123.928925\" xlink:href=\"#m6a6831713c\" y=\"129.711121\"/>\r\n     <use style=\"stroke:#000000;\" x=\"129.546529\" xlink:href=\"#m6a6831713c\" y=\"129.711121\"/>\r\n     <use style=\"stroke:#000000;\" x=\"141.702656\" xlink:href=\"#m6a6831713c\" y=\"132.009641\"/>\r\n     <use style=\"stroke:#000000;\" x=\"142.347299\" xlink:href=\"#m6a6831713c\" y=\"129.711121\"/>\r\n     <use style=\"stroke:#000000;\" x=\"145.386331\" xlink:href=\"#m6a6831713c\" y=\"132.009641\"/>\r\n     <use style=\"stroke:#000000;\" x=\"161.226133\" xlink:href=\"#m6a6831713c\" y=\"132.009641\"/>\r\n     <use style=\"stroke:#000000;\" x=\"161.410317\" xlink:href=\"#m6a6831713c\" y=\"134.308161\"/>\r\n     <use style=\"stroke:#000000;\" x=\"179.736599\" xlink:href=\"#m6a6831713c\" y=\"134.308161\"/>\r\n     <use style=\"stroke:#000000;\" x=\"199.996811\" xlink:href=\"#m6a6831713c\" y=\"132.009641\"/>\r\n     <use style=\"stroke:#000000;\" x=\"221.177941\" xlink:href=\"#m6a6831713c\" y=\"132.009641\"/>\r\n     <use style=\"stroke:#000000;\" x=\"309.494047\" xlink:href=\"#m6a6831713c\" y=\"134.308161\"/>\r\n     <use style=\"stroke:#000000;\" x=\"326.991502\" xlink:href=\"#m6a6831713c\" y=\"143.502241\"/>\r\n     <use style=\"stroke:#000000;\" x=\"346.146612\" xlink:href=\"#m6a6831713c\" y=\"19.382156\"/>\r\n     <use style=\"stroke:#000000;\" x=\"48.689866\" xlink:href=\"#m6a6831713c\" y=\"23.979197\"/>\r\n     <use style=\"stroke:#000000;\" x=\"48.874049\" xlink:href=\"#m6a6831713c\" y=\"125.11408\"/>\r\n     <use style=\"stroke:#000000;\" x=\"49.426601\" xlink:href=\"#m6a6831713c\" y=\"157.293362\"/>\r\n     <use style=\"stroke:#000000;\" x=\"50.439611\" xlink:href=\"#m6a6831713c\" y=\"120.51704\"/>\r\n     <use style=\"stroke:#000000;\" x=\"67.10824\" xlink:href=\"#m6a6831713c\" y=\"106.72592\"/>\r\n     <use style=\"stroke:#000000;\" x=\"67.844975\" xlink:href=\"#m6a6831713c\" y=\"106.72592\"/>\r\n     <use style=\"stroke:#000000;\" x=\"68.489618\" xlink:href=\"#m6a6831713c\" y=\"109.02444\"/>\r\n     <use style=\"stroke:#000000;\" x=\"70.607731\" xlink:href=\"#m6a6831713c\" y=\"92.934799\"/>\r\n     <use style=\"stroke:#000000;\" x=\"86.355441\" xlink:href=\"#m6a6831713c\" y=\"102.128879\"/>\r\n     <use style=\"stroke:#000000;\" x=\"87.184268\" xlink:href=\"#m6a6831713c\" y=\"95.233319\"/>\r\n     <use style=\"stroke:#000000;\" x=\"92.986056\" xlink:href=\"#m6a6831713c\" y=\"95.233319\"/>\r\n     <use style=\"stroke:#000000;\" x=\"109.562593\" xlink:href=\"#m6a6831713c\" y=\"97.531839\"/>\r\n     <use style=\"stroke:#000000;\" x=\"124.849844\" xlink:href=\"#m6a6831713c\" y=\"99.830359\"/>\r\n     <use style=\"stroke:#000000;\" x=\"142.255207\" xlink:href=\"#m6a6831713c\" y=\"99.830359\"/>\r\n     <use style=\"stroke:#000000;\" x=\"162.883787\" xlink:href=\"#m6a6831713c\" y=\"99.830359\"/>\r\n     <use style=\"stroke:#000000;\" x=\"179.460324\" xlink:href=\"#m6a6831713c\" y=\"97.531839\"/>\r\n     <use style=\"stroke:#000000;\" x=\"198.062882\" xlink:href=\"#m6a6831713c\" y=\"97.531839\"/>\r\n     <use style=\"stroke:#000000;\" x=\"216.757532\" xlink:href=\"#m6a6831713c\" y=\"150.397801\"/>\r\n     <use style=\"stroke:#000000;\" x=\"219.15192\" xlink:href=\"#m6a6831713c\" y=\"145.800761\"/>\r\n     <use style=\"stroke:#000000;\" x=\"234.347079\" xlink:href=\"#m6a6831713c\" y=\"145.800761\"/>\r\n     <use style=\"stroke:#000000;\" x=\"235.636365\" xlink:href=\"#m6a6831713c\" y=\"145.800761\"/>\r\n     <use style=\"stroke:#000000;\" x=\"253.686372\" xlink:href=\"#m6a6831713c\" y=\"145.800761\"/>\r\n     <use style=\"stroke:#000000;\" x=\"291.628223\" xlink:href=\"#m6a6831713c\" y=\"145.800761\"/>\r\n     <use style=\"stroke:#000000;\" x=\"292.088683\" xlink:href=\"#m6a6831713c\" y=\"97.531839\"/>\r\n     <use style=\"stroke:#000000;\" x=\"309.494047\" xlink:href=\"#m6a6831713c\" y=\"132.009641\"/>\r\n     <use style=\"stroke:#000000;\" x=\"315.848386\" xlink:href=\"#m6a6831713c\" y=\"132.009641\"/>\r\n     <use style=\"stroke:#000000;\" x=\"327.544053\" xlink:href=\"#m6a6831713c\" y=\"132.009641\"/>\r\n     <use style=\"stroke:#000000;\" x=\"346.514979\" xlink:href=\"#m6a6831713c\" y=\"86.039239\"/>\r\n     <use style=\"stroke:#000000;\" x=\"346.699163\" xlink:href=\"#m6a6831713c\" y=\"95.233319\"/>\r\n     <use style=\"stroke:#000000;\" x=\"347.159622\" xlink:href=\"#m6a6831713c\" y=\"90.636279\"/>\r\n     <use style=\"stroke:#000000;\" x=\"347.896357\" xlink:href=\"#m6a6831713c\" y=\"90.636279\"/>\r\n     <use style=\"stroke:#000000;\" x=\"48.505682\" xlink:href=\"#m6a6831713c\" y=\"95.233319\"/>\r\n     <use style=\"stroke:#000000;\" x=\"48.874049\" xlink:href=\"#m6a6831713c\" y=\"118.21852\"/>\r\n     <use style=\"stroke:#000000;\" x=\"50.623795\" xlink:href=\"#m6a6831713c\" y=\"196.368203\"/>\r\n     <use style=\"stroke:#000000;\" x=\"50.715887\" xlink:href=\"#m6a6831713c\" y=\"173.383002\"/>\r\n     <use style=\"stroke:#000000;\" x=\"54.30747\" xlink:href=\"#m6a6831713c\" y=\"88.337759\"/>\r\n     <use style=\"stroke:#000000;\" x=\"54.675837\" xlink:href=\"#m6a6831713c\" y=\"81.442199\"/>\r\n     <use style=\"stroke:#000000;\" x=\"67.292424\" xlink:href=\"#m6a6831713c\" y=\"164.188922\"/>\r\n     <use style=\"stroke:#000000;\" x=\"67.844975\" xlink:href=\"#m6a6831713c\" y=\"141.203721\"/>\r\n     <use style=\"stroke:#000000;\" x=\"73.923038\" xlink:href=\"#m6a6831713c\" y=\"134.308161\"/>\r\n     <use style=\"stroke:#000000;\" x=\"85.710798\" xlink:href=\"#m6a6831713c\" y=\"134.308161\"/>\r\n     <use style=\"stroke:#000000;\" x=\"87.368452\" xlink:href=\"#m6a6831713c\" y=\"97.531839\"/>\r\n     <use style=\"stroke:#000000;\" x=\"87.736819\" xlink:href=\"#m6a6831713c\" y=\"90.636279\"/>\r\n     <use style=\"stroke:#000000;\" x=\"88.105187\" xlink:href=\"#m6a6831713c\" y=\"95.233319\"/>\r\n     <use style=\"stroke:#000000;\" x=\"104.129172\" xlink:href=\"#m6a6831713c\" y=\"95.233319\"/>\r\n     <use style=\"stroke:#000000;\" x=\"105.326367\" xlink:href=\"#m6a6831713c\" y=\"99.830359\"/>\r\n     <use style=\"stroke:#000000;\" x=\"106.523561\" xlink:href=\"#m6a6831713c\" y=\"99.830359\"/>\r\n     <use style=\"stroke:#000000;\" x=\"124.113109\" xlink:href=\"#m6a6831713c\" y=\"120.51704\"/>\r\n     <use style=\"stroke:#000000;\" x=\"124.66566\" xlink:href=\"#m6a6831713c\" y=\"115.92\"/>\r\n     <use style=\"stroke:#000000;\" x=\"141.978932\" xlink:href=\"#m6a6831713c\" y=\"104.4274\"/>\r\n     <use style=\"stroke:#000000;\" x=\"142.623575\" xlink:href=\"#m6a6831713c\" y=\"92.934799\"/>\r\n     <use style=\"stroke:#000000;\" x=\"144.83378\" xlink:href=\"#m6a6831713c\" y=\"109.02444\"/>\r\n     <use style=\"stroke:#000000;\" x=\"160.949857\" xlink:href=\"#m6a6831713c\" y=\"115.92\"/>\r\n     <use style=\"stroke:#000000;\" x=\"161.778684\" xlink:href=\"#m6a6831713c\" y=\"113.62148\"/>\r\n     <use style=\"stroke:#000000;\" x=\"163.06797\" xlink:href=\"#m6a6831713c\" y=\"118.21852\"/>\r\n     <use style=\"stroke:#000000;\" x=\"163.52843\" xlink:href=\"#m6a6831713c\" y=\"118.21852\"/>\r\n     <use style=\"stroke:#000000;\" x=\"182.130988\" xlink:href=\"#m6a6831713c\" y=\"120.51704\"/>\r\n     <use style=\"stroke:#000000;\" x=\"49.058233\" xlink:href=\"#m6a6831713c\" y=\"152.696321\"/>\r\n     <use style=\"stroke:#000000;\" x=\"50.623795\" xlink:href=\"#m6a6831713c\" y=\"53.859958\"/>\r\n     <use style=\"stroke:#000000;\" x=\"51.176346\" xlink:href=\"#m6a6831713c\" y=\"90.636279\"/>\r\n     <use style=\"stroke:#000000;\" x=\"51.820989\" xlink:href=\"#m6a6831713c\" y=\"115.92\"/>\r\n     <use style=\"stroke:#000000;\" x=\"52.465632\" xlink:href=\"#m6a6831713c\" y=\"145.800761\"/>\r\n     <use style=\"stroke:#000000;\" x=\"68.857985\" xlink:href=\"#m6a6831713c\" y=\"104.4274\"/>\r\n     <use style=\"stroke:#000000;\" x=\"68.950077\" xlink:href=\"#m6a6831713c\" y=\"104.4274\"/>\r\n     <use style=\"stroke:#000000;\" x=\"85.894982\" xlink:href=\"#m6a6831713c\" y=\"118.21852\"/>\r\n     <use style=\"stroke:#000000;\" x=\"86.447533\" xlink:href=\"#m6a6831713c\" y=\"120.51704\"/>\r\n     <use style=\"stroke:#000000;\" x=\"107.536572\" xlink:href=\"#m6a6831713c\" y=\"122.81556\"/>\r\n     <use style=\"stroke:#000000;\" x=\"107.720755\" xlink:href=\"#m6a6831713c\" y=\"120.51704\"/>\r\n     <use style=\"stroke:#000000;\" x=\"48.781957\" xlink:href=\"#m6a6831713c\" y=\"210.159323\"/>\r\n     <use style=\"stroke:#000000;\" x=\"49.242417\" xlink:href=\"#m6a6831713c\" y=\"152.696321\"/>\r\n     <use style=\"stroke:#000000;\" x=\"49.979152\" xlink:href=\"#m6a6831713c\" y=\"74.546638\"/>\r\n     <use style=\"stroke:#000000;\" x=\"51.176346\" xlink:href=\"#m6a6831713c\" y=\"99.830359\"/>\r\n     <use style=\"stroke:#000000;\" x=\"67.10824\" xlink:href=\"#m6a6831713c\" y=\"99.830359\"/>\r\n     <use style=\"stroke:#000000;\" x=\"68.121251\" xlink:href=\"#m6a6831713c\" y=\"111.32296\"/>\r\n     <use style=\"stroke:#000000;\" x=\"70.607731\" xlink:href=\"#m6a6831713c\" y=\"99.830359\"/>\r\n     <use style=\"stroke:#000000;\" x=\"71.160282\" xlink:href=\"#m6a6831713c\" y=\"95.233319\"/>\r\n     <use style=\"stroke:#000000;\" x=\"85.80289\" xlink:href=\"#m6a6831713c\" y=\"92.934799\"/>\r\n     <use style=\"stroke:#000000;\" x=\"88.381462\" xlink:href=\"#m6a6831713c\" y=\"76.845159\"/>\r\n     <use style=\"stroke:#000000;\" x=\"88.841922\" xlink:href=\"#m6a6831713c\" y=\"76.845159\"/>\r\n     <use style=\"stroke:#000000;\" x=\"91.788862\" xlink:href=\"#m6a6831713c\" y=\"79.143679\"/>\r\n     <use style=\"stroke:#000000;\" x=\"105.878918\" xlink:href=\"#m6a6831713c\" y=\"81.442199\"/>\r\n     <use style=\"stroke:#000000;\" x=\"124.297292\" xlink:href=\"#m6a6831713c\" y=\"83.740719\"/>\r\n     <use style=\"stroke:#000000;\" x=\"142.163115\" xlink:href=\"#m6a6831713c\" y=\"90.636279\"/>\r\n     <use style=\"stroke:#000000;\" x=\"144.097045\" xlink:href=\"#m6a6831713c\" y=\"92.934799\"/>\r\n     <use style=\"stroke:#000000;\" x=\"161.502409\" xlink:href=\"#m6a6831713c\" y=\"92.934799\"/>\r\n     <use style=\"stroke:#000000;\" x=\"179.644507\" xlink:href=\"#m6a6831713c\" y=\"92.934799\"/>\r\n     <use style=\"stroke:#000000;\" x=\"197.51033\" xlink:href=\"#m6a6831713c\" y=\"92.934799\"/>\r\n     <use style=\"stroke:#000000;\" x=\"202.114924\" xlink:href=\"#m6a6831713c\" y=\"95.233319\"/>\r\n     <use style=\"stroke:#000000;\" x=\"254.883567\" xlink:href=\"#m6a6831713c\" y=\"92.934799\"/>\r\n     <use style=\"stroke:#000000;\" x=\"272.657298\" xlink:href=\"#m6a6831713c\" y=\"23.979197\"/>\r\n     <use style=\"stroke:#000000;\" x=\"272.841482\" xlink:href=\"#m6a6831713c\" y=\"67.651078\"/>\r\n     <use style=\"stroke:#000000;\" x=\"273.7624\" xlink:href=\"#m6a6831713c\" y=\"72.248118\"/>\r\n     <use style=\"stroke:#000000;\" x=\"277.261891\" xlink:href=\"#m6a6831713c\" y=\"81.442199\"/>\r\n     <use style=\"stroke:#000000;\" x=\"290.062662\" xlink:href=\"#m6a6831713c\" y=\"65.352558\"/>\r\n     <use style=\"stroke:#000000;\" x=\"308.941495\" xlink:href=\"#m6a6831713c\" y=\"79.143679\"/>\r\n     <use style=\"stroke:#000000;\" x=\"327.267778\" xlink:href=\"#m6a6831713c\" y=\"76.845159\"/>\r\n     <use style=\"stroke:#000000;\" x=\"327.544053\" xlink:href=\"#m6a6831713c\" y=\"79.143679\"/>\r\n     <use style=\"stroke:#000000;\" x=\"327.820329\" xlink:href=\"#m6a6831713c\" y=\"83.740719\"/>\r\n     <use style=\"stroke:#000000;\" x=\"330.675177\" xlink:href=\"#m6a6831713c\" y=\"113.62148\"/>\r\n     <use style=\"stroke:#000000;\" x=\"335.371863\" xlink:href=\"#m6a6831713c\" y=\"115.92\"/>\r\n     <use style=\"stroke:#000000;\" x=\"345.59406\" xlink:href=\"#m6a6831713c\" y=\"115.92\"/>\r\n     <use style=\"stroke:#000000;\" x=\"347.251714\" xlink:href=\"#m6a6831713c\" y=\"74.546638\"/>\r\n     <use style=\"stroke:#000000;\" x=\"347.52799\" xlink:href=\"#m6a6831713c\" y=\"81.442199\"/>\r\n     <use style=\"stroke:#000000;\" x=\"348.356816\" xlink:href=\"#m6a6831713c\" y=\"81.442199\"/>\r\n     <use style=\"stroke:#000000;\" x=\"350.01447\" xlink:href=\"#m6a6831713c\" y=\"79.143679\"/>\r\n     <use style=\"stroke:#000000;\" x=\"48.597774\" xlink:href=\"#m6a6831713c\" y=\"214.756364\"/>\r\n     <use style=\"stroke:#000000;\" x=\"49.979152\" xlink:href=\"#m6a6831713c\" y=\"125.11408\"/>\r\n     <use style=\"stroke:#000000;\" x=\"50.163336\" xlink:href=\"#m6a6831713c\" y=\"154.994841\"/>\r\n     <use style=\"stroke:#000000;\" x=\"52.189357\" xlink:href=\"#m6a6831713c\" y=\"115.92\"/>\r\n     <use style=\"stroke:#000000;\" x=\"67.10824\" xlink:href=\"#m6a6831713c\" y=\"159.591882\"/>\r\n     <use style=\"stroke:#000000;\" x=\"67.476607\" xlink:href=\"#m6a6831713c\" y=\"65.352558\"/>\r\n     <use style=\"stroke:#000000;\" x=\"67.568699\" xlink:href=\"#m6a6831713c\" y=\"111.32296\"/>\r\n     <use style=\"stroke:#000000;\" x=\"68.029159\" xlink:href=\"#m6a6831713c\" y=\"154.994841\"/>\r\n     <use style=\"stroke:#000000;\" x=\"69.963088\" xlink:href=\"#m6a6831713c\" y=\"122.81556\"/>\r\n     <use style=\"stroke:#000000;\" x=\"85.618706\" xlink:href=\"#m6a6831713c\" y=\"136.606681\"/>\r\n     <use style=\"stroke:#000000;\" x=\"85.894982\" xlink:href=\"#m6a6831713c\" y=\"127.4126\"/>\r\n     <use style=\"stroke:#000000;\" x=\"86.079166\" xlink:href=\"#m6a6831713c\" y=\"134.308161\"/>\r\n     <use style=\"stroke:#000000;\" x=\"88.657738\" xlink:href=\"#m6a6831713c\" y=\"122.81556\"/>\r\n     <use style=\"stroke:#000000;\" x=\"106.063102\" xlink:href=\"#m6a6831713c\" y=\"129.711121\"/>\r\n     <use style=\"stroke:#000000;\" x=\"106.247285\" xlink:href=\"#m6a6831713c\" y=\"132.009641\"/>\r\n     <use style=\"stroke:#000000;\" x=\"109.194225\" xlink:href=\"#m6a6831713c\" y=\"129.711121\"/>\r\n     <use style=\"stroke:#000000;\" x=\"123.560557\" xlink:href=\"#m6a6831713c\" y=\"143.502241\"/>\r\n     <use style=\"stroke:#000000;\" x=\"124.113109\" xlink:href=\"#m6a6831713c\" y=\"143.502241\"/>\r\n     <use style=\"stroke:#000000;\" x=\"124.573568\" xlink:href=\"#m6a6831713c\" y=\"143.502241\"/>\r\n     <use style=\"stroke:#000000;\" x=\"125.954946\" xlink:href=\"#m6a6831713c\" y=\"132.009641\"/>\r\n     <use style=\"stroke:#000000;\" x=\"141.610564\" xlink:href=\"#m6a6831713c\" y=\"118.21852\"/>\r\n     <use style=\"stroke:#000000;\" x=\"144.741688\" xlink:href=\"#m6a6831713c\" y=\"134.308161\"/>\r\n     <use style=\"stroke:#000000;\" x=\"160.397306\" xlink:href=\"#m6a6831713c\" y=\"132.009641\"/>\r\n     <use style=\"stroke:#000000;\" x=\"160.58149\" xlink:href=\"#m6a6831713c\" y=\"138.905201\"/>\r\n     <use style=\"stroke:#000000;\" x=\"179.184048\" xlink:href=\"#m6a6831713c\" y=\"132.009641\"/>\r\n     <use style=\"stroke:#000000;\" x=\"179.736599\" xlink:href=\"#m6a6831713c\" y=\"113.62148\"/>\r\n     <use style=\"stroke:#000000;\" x=\"180.473334\" xlink:href=\"#m6a6831713c\" y=\"115.92\"/>\r\n     <use style=\"stroke:#000000;\" x=\"181.302161\" xlink:href=\"#m6a6831713c\" y=\"118.21852\"/>\r\n     <use style=\"stroke:#000000;\" x=\"197.878698\" xlink:href=\"#m6a6831713c\" y=\"118.21852\"/>\r\n     <use style=\"stroke:#000000;\" x=\"198.247065\" xlink:href=\"#m6a6831713c\" y=\"120.51704\"/>\r\n     <use style=\"stroke:#000000;\" x=\"198.707525\" xlink:href=\"#m6a6831713c\" y=\"120.51704\"/>\r\n     <use style=\"stroke:#000000;\" x=\"216.573348\" xlink:href=\"#m6a6831713c\" y=\"122.81556\"/>\r\n     <use style=\"stroke:#000000;\" x=\"234.347079\" xlink:href=\"#m6a6831713c\" y=\"125.11408\"/>\r\n     <use style=\"stroke:#000000;\" x=\"253.502188\" xlink:href=\"#m6a6831713c\" y=\"127.4126\"/>\r\n     <use style=\"stroke:#000000;\" x=\"274.499135\" xlink:href=\"#m6a6831713c\" y=\"127.4126\"/>\r\n     <use style=\"stroke:#000000;\" x=\"48.505682\" xlink:href=\"#m6a6831713c\" y=\"97.531839\"/>\r\n     <use style=\"stroke:#000000;\" x=\"48.874049\" xlink:href=\"#m6a6831713c\" y=\"120.51704\"/>\r\n     <use style=\"stroke:#000000;\" x=\"49.242417\" xlink:href=\"#m6a6831713c\" y=\"184.875603\"/>\r\n     <use style=\"stroke:#000000;\" x=\"50.071244\" xlink:href=\"#m6a6831713c\" y=\"134.308161\"/>\r\n     <use style=\"stroke:#000000;\" x=\"66.924056\" xlink:href=\"#m6a6831713c\" y=\"168.785962\"/>\r\n     <use style=\"stroke:#000000;\" x=\"69.778904\" xlink:href=\"#m6a6831713c\" y=\"122.81556\"/>\r\n     <use style=\"stroke:#000000;\" x=\"85.710798\" xlink:href=\"#m6a6831713c\" y=\"102.128879\"/>\r\n     <use style=\"stroke:#000000;\" x=\"87.27636\" xlink:href=\"#m6a6831713c\" y=\"102.128879\"/>\r\n     <use style=\"stroke:#000000;\" x=\"104.957999\" xlink:href=\"#m6a6831713c\" y=\"99.830359\"/>\r\n     <use style=\"stroke:#000000;\" x=\"106.247285\" xlink:href=\"#m6a6831713c\" y=\"99.830359\"/>\r\n     <use style=\"stroke:#000000;\" x=\"122.915914\" xlink:href=\"#m6a6831713c\" y=\"111.32296\"/>\r\n     <use style=\"stroke:#000000;\" x=\"124.573568\" xlink:href=\"#m6a6831713c\" y=\"104.4274\"/>\r\n     <use style=\"stroke:#000000;\" x=\"141.42638\" xlink:href=\"#m6a6831713c\" y=\"120.51704\"/>\r\n     <use style=\"stroke:#000000;\" x=\"162.423327\" xlink:href=\"#m6a6831713c\" y=\"106.72592\"/>\r\n     <use style=\"stroke:#000000;\" x=\"181.76262\" xlink:href=\"#m6a6831713c\" y=\"83.740719\"/>\r\n     <use style=\"stroke:#000000;\" x=\"182.683539\" xlink:href=\"#m6a6831713c\" y=\"83.740719\"/>\r\n     <use style=\"stroke:#000000;\" x=\"198.062882\" xlink:href=\"#m6a6831713c\" y=\"86.039239\"/>\r\n     <use style=\"stroke:#000000;\" x=\"198.431249\" xlink:href=\"#m6a6831713c\" y=\"99.830359\"/>\r\n     <use style=\"stroke:#000000;\" x=\"199.260076\" xlink:href=\"#m6a6831713c\" y=\"104.4274\"/>\r\n     <use style=\"stroke:#000000;\" x=\"201.009822\" xlink:href=\"#m6a6831713c\" y=\"95.233319\"/>\r\n     <use style=\"stroke:#000000;\" x=\"203.680486\" xlink:href=\"#m6a6831713c\" y=\"97.531839\"/>\r\n     <use style=\"stroke:#000000;\" x=\"219.15192\" xlink:href=\"#m6a6831713c\" y=\"99.830359\"/>\r\n     <use style=\"stroke:#000000;\" x=\"223.388146\" xlink:href=\"#m6a6831713c\" y=\"102.128879\"/>\r\n     <use style=\"stroke:#000000;\" x=\"234.991722\" xlink:href=\"#m6a6831713c\" y=\"102.128879\"/>\r\n    </g>\r\n   </g>\r\n   <g id=\"patch_3\">\r\n    <path d=\"M 33.2875 224.64 \r\nL 33.2875 7.2 \r\n\" style=\"fill:none;stroke:#000000;stroke-linecap:square;stroke-linejoin:miter;stroke-width:0.8;\"/>\r\n   </g>\r\n   <g id=\"patch_4\">\r\n    <path d=\"M 368.0875 224.64 \r\nL 368.0875 7.2 \r\n\" style=\"fill:none;stroke:#000000;stroke-linecap:square;stroke-linejoin:miter;stroke-width:0.8;\"/>\r\n   </g>\r\n   <g id=\"patch_5\">\r\n    <path d=\"M 33.2875 224.64 \r\nL 368.0875 224.64 \r\n\" style=\"fill:none;stroke:#000000;stroke-linecap:square;stroke-linejoin:miter;stroke-width:0.8;\"/>\r\n   </g>\r\n   <g id=\"patch_6\">\r\n    <path d=\"M 33.2875 7.2 \r\nL 368.0875 7.2 \r\n\" style=\"fill:none;stroke:#000000;stroke-linecap:square;stroke-linejoin:miter;stroke-width:0.8;\"/>\r\n   </g>\r\n  </g>\r\n </g>\r\n <defs>\r\n  <clipPath id=\"p2d89780cac\">\r\n   <rect height=\"217.44\" width=\"334.8\" x=\"33.2875\" y=\"7.2\"/>\r\n  </clipPath>\r\n </defs>\r\n</svg>\r\n",
      "image/png": "[encoded data removed]"
     },
     "metadata": {
      "needs_background": "light"
     }
    }
   ],
   "source": [
    "n_runs_plot(10, trial_id, start_time, end_time, traders_spec, order_sched)"
   ]
  },
  {
   "cell_type": "markdown",
   "metadata": {},
   "source": [
    "2) A market that runs for 5 minutes and is populated with 3 buyers of every type except ZIC and 3 sellers of every type except SNPR. The supply curve should have a minimum value at 100 and a maximum value at 200 and demand curve should have a minimum value at 50, maximum value at 150. There shouldn't be any pattern in the step size. Traders should be resupplied with new orders continuously at fixed intervals with some noise and a re-supply cycle of 30 seconds. Plot the supply and demand curves along with your results."
   ]
  },
  {
   "cell_type": "code",
   "execution_count": null,
   "metadata": {},
   "outputs": [],
   "source": []
  },
  {
   "cell_type": "markdown",
   "metadata": {
    "tags": []
   },
   "source": [
    "### Advanced Static Markets "
   ]
  },
  {
   "cell_type": "markdown",
   "metadata": {},
   "source": [
    "The previous section cover everything you need to set up most static markets. In this section, we will see a method that creates a static market that is a little more complex. \n",
    "\n",
    "If you remember when we defined [supply and demand schedules](#Supply-and-Demand-Schedules), we said that the schedule dictionary has key \"ranges\" which is a list of tuples but we only looked at the case where we provided only one range tuple.\n",
    "\n",
    "If the stepmode is set to random, we can actually provide multiple ranges (in all other stepmodes, BSE will ignore all ranges except from the first). What this does, is that instead of having just one supply or demand range, we have multiple and one is chosen at random every time an order is issued to a trader.\n",
    "\n",
    "Try this feature out by using the previous market configuration but with supply and demand ranges 1-50, 100-200 and 300-350. Plot the supply and demand curves along with your results:"
   ]
  },
  {
   "cell_type": "code",
   "execution_count": null,
   "metadata": {},
   "outputs": [],
   "source": []
  },
  {
   "cell_type": "markdown",
   "metadata": {
    "tags": []
   },
   "source": [
    "## Dynamic Markets"
   ]
  },
  {
   "cell_type": "markdown",
   "metadata": {},
   "source": [
    "So far, we've looked at experiments that use the same supply and demand curves for the entire duration of the experiment (what we called static markets). In this section, we will see markets with variable supply and demand curves. BSE gives us 2 ways to dynamically change the supply and demand curves during an experiment."
   ]
  },
  {
   "cell_type": "markdown",
   "metadata": {
    "tags": []
   },
   "source": [
    "### Market \"Shocks\""
   ]
  },
  {
   "cell_type": "markdown",
   "metadata": {},
   "source": [
    "The first way we will look at is something called a market \"shock\". What this means is that at specified points in the experiment we suddenly switch to different supply and/or demand schedules.\n",
    "\n",
    "As we saw when we defined [supply and demand schedules](#Supply-and-Demand-Schedules), each schedule is a list of dictionaries. In static markets, we used one dictionary to define a schedule for the entire duration of the market session. In order to introduce one \"shock\" to the market, we provide two dictionaries with different configurations. Care must be taken to make sure that the combination of the intervals of the two (or more) schedules covers the entire duration of the market session. For example if we have a market that runs for 100 seconds, we could have the first schedule start at 0 ('from' = 0) and finish at 70 seconds ('to' = 70) and then have the second schedule start at 70 ('from' = 70) and finish at 100 ('to' = 100)."
   ]
  },
  {
   "cell_type": "markdown",
   "metadata": {},
   "source": [
    "Let's try this using a market that runs for 10 minutes and is populated with 10 ZIP buyers and 10 ZIP sellers. The supply and demand curves should have steps with regular intervals, and initially minimum value at 50, and maximum value at 100. Then in the middle of the experiment, we introduce a \"shock\" where the minimum value of the supply and demand curves changes to 150 and maximum to 200. All traders should be resupplied with a new order at the same time every 15 seconds. Plotting the results should make the \"shock\" obvious."
   ]
  },
  {
   "cell_type": "code",
   "execution_count": null,
   "metadata": {},
   "outputs": [],
   "source": []
  },
  {
   "cell_type": "markdown",
   "metadata": {},
   "source": [
    "Of course, we are not confined to having just one \"shock\" in the market. BSE allows us to have as many as we want. Let's try this by having the same experiment as before but this time the supply and demand curves move from (50, 100) to (150, 200) at 3 minutes and then back to (50, 100) at 7 minutes. Again plot all trades to see the effect of the 2 shocks. "
   ]
  },
  {
   "cell_type": "code",
   "execution_count": null,
   "metadata": {},
   "outputs": [],
   "source": []
  },
  {
   "cell_type": "markdown",
   "metadata": {},
   "source": [
    "### Offset Function"
   ]
  },
  {
   "cell_type": "markdown",
   "metadata": {},
   "source": [
    "The second way we can dynamically alter markets in BSE is by using offset functions. An offset function, is a function that can continuously alter the minimum and maximum values of the supply and demand curves while the experiment is running. How this works, it that the offset function is a function of time that returns a number that is added to the minimum and maximum values defined in the supply and/or demand ranges. With the current version of BSE you can find one offset function already build-in (function \"schedule_offsetfn\" shown below - a sine wave that grows in amplitude, and reduces its wavelength, as time progresses)."
   ]
  },
  {
   "cell_type": "code",
   "execution_count": null,
   "metadata": {},
   "outputs": [],
   "source": [
    "# schedule_offsetfn returns time-dependent offset, to be added to schedule prices\n",
    "def schedule_offsetfn(t):\n",
    "    pi2 = math.pi * 2\n",
    "    c = math.pi * 3000\n",
    "    wavelength = t / c\n",
    "    gradient = 100 * t / (c / pi2)\n",
    "    amplitude = 100 * t / (c / pi2)\n",
    "    offset = gradient + amplitude * math.sin(wavelength * t)\n",
    "    return int(round(offset, 0))"
   ]
  },
  {
   "cell_type": "markdown",
   "metadata": {},
   "source": [
    "We can also create our own offset function in a similar way by creating a new function that takes as input time and returns a number. For example, \"offset_1\" and \"offset_2\" are two silly non-dynamic offset functions that always return constant offset of 1 or 2:"
   ]
  },
  {
   "cell_type": "code",
   "execution_count": null,
   "metadata": {},
   "outputs": [],
   "source": [
    "def offset_1(t):\n",
    "    return 1\n",
    "\n",
    "def offset_2(t):\n",
    "    return 2"
   ]
  },
  {
   "cell_type": "markdown",
   "metadata": {},
   "source": [
    "Define your own offset function that returns an offset that is initially equal to zero and increases by 1 every second:"
   ]
  },
  {
   "cell_type": "code",
   "execution_count": null,
   "metadata": {},
   "outputs": [],
   "source": [
    "def offset_t(t):\n",
    "    "
   ]
  },
  {
   "cell_type": "markdown",
   "metadata": {},
   "source": [
    "To apply an offset function, we need to alter the supply and/or demand ranges. In section [supply and demand ranges](#Supply-and-Demand-Ranges) we saw how to create supply and demand ranges but we only use tuples with two numbers - the minimum and the maximum. Along with the two numbers we can provide a third item in the tuple, an offset function which will be used on both the minimum and maximum values in the range. If we want to use a different offset function for the minimum and a different one for the maximum value in a range we can also do that by providing a tuple with four items in it, the minimum value, the maximum value, the offset function that will be applied to the minimum value and the offset function to be applied to the maximum value.\n",
    "\n",
    "For example, the following creates two ranges each with a different offset applied to both the minimum and maximum value: "
   ]
  },
  {
   "cell_type": "code",
   "execution_count": null,
   "metadata": {},
   "outputs": [],
   "source": [
    "range_offset1 = (50, 100, schedule_offsetfn)\n",
    "range_offset2 = (150, 200, offset_t)"
   ]
  },
  {
   "cell_type": "markdown",
   "metadata": {},
   "source": [
    "Similarly, the following creates a range with two offset functions the first one applied to the minimum and the second one to the maximum:"
   ]
  },
  {
   "cell_type": "code",
   "execution_count": null,
   "metadata": {},
   "outputs": [],
   "source": [
    "range_offset_both = (50, 100, offset_1, offset_2)"
   ]
  },
  {
   "cell_type": "markdown",
   "metadata": {},
   "source": [
    "Run a market session using the previous market configuration but this time replace range1 with range_offset1 and range2 with range_offset2. Plot the results:"
   ]
  },
  {
   "cell_type": "code",
   "execution_count": null,
   "metadata": {},
   "outputs": [],
   "source": []
  },
  {
   "cell_type": "markdown",
   "metadata": {
    "tags": []
   },
   "source": [
    "## Market Configuration Summary"
   ]
  },
  {
   "cell_type": "markdown",
   "metadata": {},
   "source": [
    "In the previous sections, we explored all experiment configuration options available in BSE. We first saw static markets and then dynamic. For more information check the __[BSE wiki](https://github.com/davecliff/BristolStockExchange/wiki/4.-Altering-the-market-supply-and-demand)__.  "
   ]
  },
  {
   "cell_type": "markdown",
   "metadata": {
    "tags": []
   },
   "source": [
    "# Code Exploration"
   ]
  },
  {
   "cell_type": "markdown",
   "metadata": {},
   "source": [
    "The current version of BSE has more than 2000 lines of code so it is easy to get lost, so in this section we will see how the most important parts of BSE work."
   ]
  },
  {
   "cell_type": "markdown",
   "metadata": {},
   "source": [
    "Starting with the Exchange class this is the backbone of BSE. It inherits from the Orderbook class (which itself inherits from the Orderbook_half class). We won't go into too much detail on how the exchange works as traders don't actually interact with it directly. The important thing to understand is that the exchange maintains a LOB, is able to process orders, and it keeps a list of transactions (the tape). You don't need to understand much more to work with BSE, but if you want to learn more, the most important method is \"process_order2\" and I suggest that you start from there."
   ]
  },
  {
   "cell_type": "markdown",
   "metadata": {},
   "source": [
    "When we want to run an experiment with BSE, we configure the experiment (as we saw in detail in the previous sections) and then call the \"market_session\" function. This function is responsible for all the functionality of BSE. How it roughly works, is: \n",
    "\n",
    "- It first populates the market with traders (using the \"populate_market\" function) by instantiating them from their respective classes and gives each a unique id.\n",
    "- Then loops around until the end of the experiment. The time of the market is increased by a timestep on every iteration. One timestep is not one (market) second but is equal to a fraction of a second. The exact fraction is determined by the number of traders (e.g. for a market with 5 sellers and 5 buyers, the timestep is 1/10 of a second).\n",
    "- On every iteration:\n",
    "    - A call to the \"customer_orders\" is made. This function does one of two things. It initially creates limit orders for all traders that will be given to them in the future (remember traders are resupplied with orders based on a schedule with an interval). If it already created the orders, on future calls it checks which of those orders should be issued (based on the current time) to the traders and sends them by calling the \"add_order\" method of that trader.\n",
    "    - A trader is selected at random and the trader's \"getorder\" method is called thus allowing that trader to trade. What this means, is that the selected trader can issue a new order (which adjusts its current order if the trade has one) or can do nothing if the trader is happy with its current order (or lack of order). (Note: This trader order is different from the one given to the trader by \"customer_orders\". This one is the order the trader issues to the market while the other is the trader's private value) \n",
    "    - If the selected trader issued a new order:\n",
    "        - That order is processed by the exchange using the \"process_order2\" method. This method either returns a \"transaction_record\" indicating that the order was executed and resulted in a trade or None indicating that the order was not executed (i.e. just added to the LOB). The transaction record contains all information of a trade (time, price, involved parties etc). If the order resulted to a trade, the two traders involved are also notified using their \"bookkeep\" methods.\n",
    "        - After the order is processed, all traders are notified with the new state of the LOB (and the trade if it happened). This allows traders to adjust their strategy given the new state of the LOB.\n",
    "- Finally at the end of the session the function produces the appropriate output files."
   ]
  }
 ],
 "metadata": {
  "kernelspec": {
   "name": "python3",
   "display_name": "Python 3.8.1 64-bit",
   "metadata": {
    "interpreter": {
     "hash": "2bcbd845f731e6014ba91957c38ac32d821f35bc3b47a7414ae44fd217f4d10f"
    }
   }
  },
  "language_info": {
   "codemirror_mode": {
    "name": "ipython",
    "version": 3
   },
   "file_extension": ".py",
   "mimetype": "text/x-python",
   "name": "python",
   "nbconvert_exporter": "python",
   "pygments_lexer": "ipython3",
   "version": "3.8.1-final"
  }
 },
 "nbformat": 4,
 "nbformat_minor": 4
}